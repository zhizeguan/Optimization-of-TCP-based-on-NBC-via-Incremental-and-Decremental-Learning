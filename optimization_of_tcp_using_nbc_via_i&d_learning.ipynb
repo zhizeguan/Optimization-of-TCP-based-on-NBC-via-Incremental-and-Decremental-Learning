{
  "cells": [
    {
      "cell_type": "markdown",
      "metadata": {
        "id": "ur7zlO48QVJJ"
      },
      "source": [
        "# Optimization of Transductive Conformal Predictors using Naive Bayes Classifier via Incremental and Decremental Learning\n",
        "\n",
        "This notebook documents our experiments and allows to reproduce. We first implement the Naive Bayes Classifiers for discrete and continuous variables, namely **MultinomialNB** and **GaussianNB**. Next, we define the **Nonconformity Measure Score (NMS)** and standard and optimized versions for **Transductive Conformal Predictor (TCP)** using the two classifiers. Finally, we evaluate the average running time of prediction and compare them.\n",
        "\n",
        "The code in this notebook refers to some ideas from the paper **Exact Optimization of Conformal Predictors via Incremental and Decremental Learning**, and use the utility class **eli.py** directly. You can find the paper, code and utility class in the link: https://github.com/gchers/exact-cp-optimization"
      ]
    },
    {
      "cell_type": "markdown",
      "metadata": {
        "id": "FigsW2IGyr2s"
      },
      "source": [
        "# Settings"
      ]
    },
    {
      "cell_type": "markdown",
      "metadata": {
        "id": "1mdAung1TzLy"
      },
      "source": [
        "## Multiprocessing Settings"
      ]
    },
    {
      "cell_type": "code",
      "execution_count": null,
      "metadata": {
        "colab": {
          "base_uri": "https://localhost:8080/"
        },
        "id": "-xSBi3o-T0d2",
        "outputId": "bdcab001-065f-4fad-bfc9-d5429403d55f"
      },
      "outputs": [
        {
          "output_type": "execute_result",
          "data": {
            "text/plain": [
              "0"
            ]
          },
          "metadata": {},
          "execution_count": 1
        }
      ],
      "source": [
        "# Disable multithreading in numpy for fair measurements.\n",
        "# Needs to be run before importing numpy.\n",
        "import os\n",
        "import ctypes\n",
        "def disable_np_multithreading():\n",
        "    \"\"\"A multithreading-disabling routine for numpy, taken\n",
        "    from https://github.com/numpy/numpy/issues/11826.\n",
        "    \"\"\"\n",
        "    try:\n",
        "        import mkl\n",
        "        mkl.set_num_threads(1)\n",
        "        return 0\n",
        "    except:\n",
        "        pass \n",
        "    \n",
        "    for name in [ \"libmkl_rt.so\", \"libmkl_rt.dylib\", \"mkl_Rt.dll\"]: \n",
        "        try: \n",
        "            mkl_rt = ctypes.CDLL(name)\n",
        "            mkl_rt.mkl_set_num_threads(ctypes.byref(ctypes.c_int(1)))\n",
        "            return 0 \n",
        "        except:\n",
        "            pass   \n",
        "\n",
        "    os.environ[\"OMP_NUM_THREADS\"] = \"1\"\n",
        "    os.environ[\"OPENBLAS_NUM_THREADS\"] = \"1\" \n",
        "    os.environ[\"MKL_NUM_THREADS\"] = \"1\"\n",
        "    os.environ[\"VECLIB_MAXIMUM_THREADS\"] = \"1\"\n",
        "    os.environ[\"NUMEXPR_NUM_THREADS\"] = \"1\"\n",
        "disable_np_multithreading()"
      ]
    },
    {
      "cell_type": "markdown",
      "metadata": {
        "id": "ELFfOncxhM3G"
      },
      "source": [
        "## Install Libraries"
      ]
    },
    {
      "cell_type": "code",
      "execution_count": null,
      "metadata": {
        "colab": {
          "base_uri": "https://localhost:8080/"
        },
        "id": "UD6cGMvphFIU",
        "outputId": "1708ed37-e21f-4431-b648-6a869b06279b"
      },
      "outputs": [
        {
          "output_type": "stream",
          "name": "stdout",
          "text": [
            "Looking in indexes: https://pypi.org/simple, https://us-python.pkg.dev/colab-wheels/public/simple/\n",
            "Collecting sh\n",
            "  Downloading sh-2.0.4-py3-none-any.whl (38 kB)\n",
            "Installing collected packages: sh\n",
            "Successfully installed sh-2.0.4\n"
          ]
        }
      ],
      "source": [
        "pip install sh"
      ]
    },
    {
      "cell_type": "code",
      "execution_count": null,
      "metadata": {
        "colab": {
          "base_uri": "https://localhost:8080/"
        },
        "id": "jTt8aoGNhDbv",
        "outputId": "188fdc90-22d0-4194-a804-351e1086aa33"
      },
      "outputs": [
        {
          "output_type": "stream",
          "name": "stdout",
          "text": [
            "Looking in indexes: https://pypi.org/simple, https://us-python.pkg.dev/colab-wheels/public/simple/\n",
            "Collecting arrow\n",
            "  Downloading arrow-1.2.3-py3-none-any.whl (66 kB)\n",
            "\u001b[?25l     \u001b[90m━━━━━━━━━━━━━━━━━━━━━━━━━━━━━━━━━━━━━━━━\u001b[0m \u001b[32m0.0/66.4 kB\u001b[0m \u001b[31m?\u001b[0m eta \u001b[36m-:--:--\u001b[0m\r\u001b[2K     \u001b[90m━━━━━━━━━━━━━━━━━━━━━━━━━━━━━━━━━━━━━━━━\u001b[0m \u001b[32m66.4/66.4 kB\u001b[0m \u001b[31m3.0 MB/s\u001b[0m eta \u001b[36m0:00:00\u001b[0m\n",
            "\u001b[?25hRequirement already satisfied: python-dateutil>=2.7.0 in /usr/local/lib/python3.10/dist-packages (from arrow) (2.8.2)\n",
            "Requirement already satisfied: six>=1.5 in /usr/local/lib/python3.10/dist-packages (from python-dateutil>=2.7.0->arrow) (1.16.0)\n",
            "Installing collected packages: arrow\n",
            "Successfully installed arrow-1.2.3\n"
          ]
        }
      ],
      "source": [
        "pip install arrow"
      ]
    },
    {
      "cell_type": "code",
      "execution_count": null,
      "metadata": {
        "colab": {
          "base_uri": "https://localhost:8080/"
        },
        "id": "2yuKrDkEhKJu",
        "outputId": "3e81ceef-b74b-402c-a3ec-a6d333ed86de"
      },
      "outputs": [
        {
          "output_type": "stream",
          "name": "stdout",
          "text": [
            "Looking in indexes: https://pypi.org/simple, https://us-python.pkg.dev/colab-wheels/public/simple/\n",
            "Collecting setproctitle\n",
            "  Downloading setproctitle-1.3.2-cp310-cp310-manylinux_2_5_x86_64.manylinux1_x86_64.manylinux_2_17_x86_64.manylinux2014_x86_64.whl (30 kB)\n",
            "Installing collected packages: setproctitle\n",
            "Successfully installed setproctitle-1.3.2\n"
          ]
        }
      ],
      "source": [
        "pip install setproctitle"
      ]
    },
    {
      "cell_type": "code",
      "execution_count": null,
      "metadata": {
        "colab": {
          "base_uri": "https://localhost:8080/"
        },
        "id": "leDKRPUyhHsa",
        "outputId": "cef7afb0-dea0-40fd-f787-065ae8be8e45"
      },
      "outputs": [
        {
          "output_type": "stream",
          "name": "stdout",
          "text": [
            "Looking in indexes: https://pypi.org/simple, https://us-python.pkg.dev/colab-wheels/public/simple/\n",
            "Collecting flatten-dict\n",
            "  Downloading flatten_dict-0.4.2-py2.py3-none-any.whl (9.7 kB)\n",
            "Requirement already satisfied: six<2.0,>=1.12 in /usr/local/lib/python3.10/dist-packages (from flatten-dict) (1.16.0)\n",
            "Installing collected packages: flatten-dict\n",
            "Successfully installed flatten-dict-0.4.2\n"
          ]
        }
      ],
      "source": [
        "pip install flatten-dict"
      ]
    },
    {
      "cell_type": "code",
      "execution_count": null,
      "metadata": {
        "colab": {
          "base_uri": "https://localhost:8080/"
        },
        "id": "Xn0ifQEJhAse",
        "outputId": "5af28aa6-3744-4b30-b7d6-720a39ae3f7d"
      },
      "outputs": [
        {
          "output_type": "stream",
          "name": "stdout",
          "text": [
            "Looking in indexes: https://pypi.org/simple, https://us-python.pkg.dev/colab-wheels/public/simple/\n",
            "Collecting parameterized\n",
            "  Downloading parameterized-0.9.0-py2.py3-none-any.whl (20 kB)\n",
            "Installing collected packages: parameterized\n",
            "Successfully installed parameterized-0.9.0\n"
          ]
        }
      ],
      "source": [
        "pip install parameterized"
      ]
    },
    {
      "cell_type": "markdown",
      "metadata": {
        "id": "G8jxuGMRy5ie"
      },
      "source": [
        "##  Import Libraries"
      ]
    },
    {
      "cell_type": "code",
      "execution_count": null,
      "metadata": {
        "id": "LeVni2mNT0z2"
      },
      "outputs": [],
      "source": [
        "# Import class Eli from the separate utility class file 'eli.py'.\n",
        "from eli import Eli \n",
        "import copy\n",
        "import math\n",
        "import time\n",
        "import random\n",
        "import unittest\n",
        "import matplotlib\n",
        "import numpy as np\n",
        "import pandas as pd\n",
        "import seaborn as sns\n",
        "from google.colab import files\n",
        "import matplotlib.pylab as plt\n",
        "from scipy.special import softmax\n",
        "from sklearn import preprocessing\n",
        "import matplotlib.ticker as ticker\n",
        "from sklearn.datasets import load_iris\n",
        "from parameterized import parameterized\n",
        "from sklearn.preprocessing import MinMaxScaler\n",
        "from sklearn.preprocessing import StandardScaler\n",
        "from sklearn.datasets import make_classification\n",
        "from sklearn.model_selection import train_test_split"
      ]
    },
    {
      "cell_type": "markdown",
      "metadata": {
        "id": "yXwRxQhMyodh"
      },
      "source": [
        "## Plots Settings"
      ]
    },
    {
      "cell_type": "code",
      "execution_count": null,
      "metadata": {
        "id": "2nozv9keVTF1"
      },
      "outputs": [],
      "source": [
        "# Plots settings.\n",
        "DPI = 300\n",
        "plt.rc('xtick', labelsize='small')\n",
        "plt.rc('ytick', labelsize='small')\n",
        "plt.style.use(['seaborn-v0_8-white', 'seaborn-v0_8-talk'])"
      ]
    },
    {
      "cell_type": "markdown",
      "metadata": {
        "id": "DnquiAKb13Ah"
      },
      "source": [
        "# Methodology"
      ]
    },
    {
      "cell_type": "markdown",
      "metadata": {
        "id": "rUe6xyGdazPQ"
      },
      "source": [
        "## Naive Bayes Classifier\n",
        "\n",
        "The following theoretical knowledge about **Naive Bayes Classifiers**, **MultinomialNB** and **GaussianNB** mainly refer to website https://scikit-learn.org/stable/, and the specific link is as follows: https://scikit-learn.org/stable/modules/naive_bayes.html. On this basis, some changes are made in order to be consistent with the symbol marking in the thesis. Refer to the thesis for details."
      ]
    },
    {
      "cell_type": "markdown",
      "metadata": {
        "id": "RMxStXlD7bAr"
      },
      "source": [
        "### General NBC\n",
        "\n",
        "**Please refer to the accompanying thesis for details.**"
      ]
    },
    {
      "cell_type": "markdown",
      "metadata": {
        "id": "AXuoiuzvjBep"
      },
      "source": [
        "### MultinomialNB for Discrete Variables\n",
        "\n",
        "**Please refer to the accompanying thesis for details.**"
      ]
    },
    {
      "cell_type": "markdown",
      "metadata": {
        "id": "rMyk7opwjLEb"
      },
      "source": [
        "### GaussianNB for Continuous Variables\n",
        "\n",
        "**Please refer to the accompanying thesis for details.**"
      ]
    },
    {
      "cell_type": "markdown",
      "metadata": {
        "id": "BrKk_lrKz5H2"
      },
      "source": [
        "## Transductive Conformal Predictor"
      ]
    },
    {
      "cell_type": "markdown",
      "metadata": {
        "id": "GtYETPgKE5xu"
      },
      "source": [
        "### Nonconformity Measure\n",
        "\n",
        "**Please refer to the accompanying thesis for details.**\n"
      ]
    },
    {
      "cell_type": "markdown",
      "metadata": {
        "id": "Kf5iT5-X0UeT"
      },
      "source": [
        "### General TCP\n",
        "\n",
        "**Please refer to the accompanying thesis for details.**\n"
      ]
    },
    {
      "cell_type": "markdown",
      "metadata": {
        "id": "8zksM_zZ0eKG"
      },
      "source": [
        "### Standard TCP using MultinomialNB\n",
        "\n",
        "**Please refer to the accompanying thesis for details.**"
      ]
    },
    {
      "cell_type": "markdown",
      "metadata": {
        "id": "QpyV-I4O0mV_"
      },
      "source": [
        "###  Standard TCP using GaussianNB\n",
        "\n",
        "**Please refer to the accompanying thesis for details.**"
      ]
    },
    {
      "cell_type": "markdown",
      "metadata": {
        "id": "hhgmVMW4LWev"
      },
      "source": [
        "### Optimized TCP using MultinomialNB via I&D Learning\n",
        "\n",
        "**Please refer to the accompanying thesis for details.**"
      ]
    },
    {
      "cell_type": "markdown",
      "metadata": {
        "id": "Sr-EJTqqLWpV"
      },
      "source": [
        "### Optimized TCP using GaussianNB via I&D Learning\n",
        "\n",
        "**Please refer to the accompanying thesis for details.**"
      ]
    },
    {
      "cell_type": "markdown",
      "metadata": {
        "id": "vUwi1b9ZWy62"
      },
      "source": [
        "# Definitions\n"
      ]
    },
    {
      "cell_type": "markdown",
      "metadata": {
        "id": "bIso3Ke6W5WY"
      },
      "source": [
        "## Functions\n"
      ]
    },
    {
      "cell_type": "markdown",
      "metadata": {
        "id": "FAFXqT-wXJJG"
      },
      "source": [
        "### generator_mnb"
      ]
    },
    {
      "cell_type": "code",
      "execution_count": null,
      "metadata": {
        "id": "Lgnohh11Np--"
      },
      "outputs": [],
      "source": [
        "# Define a function to generate data for MultinomialNB.\n",
        "def generator_mnb(n_samples, n_features, n_classes):\n",
        "  rng = np.random.RandomState(0)\n",
        "  # Because the random number range doesn't matter, we set the range to 2 for simplicity.\n",
        "  X = rng.randint(2, size = (n_samples, n_features))\n",
        "  Y = rng.randint(n_classes, size = n_samples)\n",
        "  # Chang the data type from 'int' to 'str', which is easier to do string concatenation for \n",
        "  # the key in dictionary data structure.\n",
        "  X = X.astype(str)\n",
        "  Y = Y.astype(str)\n",
        "  return X, Y"
      ]
    },
    {
      "cell_type": "markdown",
      "metadata": {
        "id": "wTg5R9wipmAh"
      },
      "source": [
        "### compute_pvalues"
      ]
    },
    {
      "cell_type": "code",
      "execution_count": null,
      "metadata": {
        "id": "a_F4bM8gpjDB"
      },
      "outputs": [],
      "source": [
        "# Define a function to compute p-values for x and all candidate class labels given \n",
        "# a nonconformity measure ncm.\n",
        "def compute_pvalues(x, labels, ncm):\n",
        "    pvalues_x = []\n",
        "    for y in labels:\n",
        "        score_x, scores = ncm.compute_scores(x, y)\n",
        "        scores = np.array(scores)\n",
        "        pvalue = (1 + sum(scores >= score_x)) / (1 + len(scores))\n",
        "        pvalues_x.append(pvalue)\n",
        "\n",
        "    return pvalues_x"
      ]
    },
    {
      "cell_type": "markdown",
      "metadata": {
        "id": "7dx1rV4Nrd2c"
      },
      "source": [
        "### cp_predict"
      ]
    },
    {
      "cell_type": "code",
      "execution_count": null,
      "metadata": {
        "id": "kXaIvR7Krcvk"
      },
      "outputs": [],
      "source": [
        "# Define a function to return p-values and running time for x and all candidate \n",
        "# class labels given a nonconformity measure ncm.\n",
        "def cp_predict(Xtrain, Ytrain, Xtest, labels, ncm, return_time=False, timeout=None):\n",
        "    \n",
        "    # Record training time.\n",
        "    start = time.perf_counter()\n",
        "    ncm.train(Xtrain, Ytrain)\n",
        "    train_time = time.perf_counter() - start\n",
        "\n",
        "    # Record p-values and cumulative prediction time for each x in Xtest.\n",
        "    start = time.perf_counter()\n",
        "    prediction_times = []\n",
        "    reached_timeout = False\n",
        "    pvalues = []\n",
        "    for x in Xtest:\n",
        "        pvalues_x = compute_pvalues(x, labels, ncm)\n",
        "        pvalues.append(pvalues_x)\n",
        "        \n",
        "        # Store prediction time.\n",
        "        t = time.perf_counter() - start\n",
        "        prediction_times.append(t)\n",
        "        \n",
        "        # Check if reached timeout.\n",
        "        if timeout and t > timeout:\n",
        "            reached_timeout = True\n",
        "            break\n",
        "    \n",
        "    if return_time:\n",
        "        return np.array(pvalues), {\"training_time\": train_time,\n",
        "                                   \"prediction_time\": prediction_times,\n",
        "                                   \"reached_timeout\": reached_timeout,\n",
        "                                   }\n",
        "    else:\n",
        "        return np.array(pvalues)"
      ]
    },
    {
      "cell_type": "markdown",
      "metadata": {
        "id": "C7M7UQ6WwCaX"
      },
      "source": [
        "### evaluate_ncm"
      ]
    },
    {
      "cell_type": "code",
      "execution_count": null,
      "metadata": {
        "id": "AILxt4rJwBvV"
      },
      "outputs": [],
      "source": [
        "# Define a function to evaluate running time for ncm.\n",
        "def evaluate_ncm(ncm, train_size, max_test_size, n_classes, n_dimensions, timeout, is_mnb):\n",
        "    \n",
        "    # Parses the ncm expression and produce the ncm class instance.\n",
        "    ncm_class = eval(ncm)\n",
        "    ncm = ncm_class()\n",
        "    \n",
        "    # Judge to generate discrete or continuous data set.\n",
        "    if is_mnb:\n",
        "      # Use our custom function 'generator_mnb'\n",
        "      X, Y = generator_mnb(n_samples = train_size+max_test_size,\n",
        "                           n_features = n_dimensions, \n",
        "                           n_classes=n_classes)\n",
        "    else:\n",
        "      # Use random generation function 'make_classification' from sklearn\n",
        "      X, Y = make_classification(n_samples = train_size+max_test_size,\n",
        "                                 n_features = n_dimensions, \n",
        "                                 n_classes = n_classes)\n",
        "    \n",
        "    # Split the dataset into training and test sets, and all the objects in the \n",
        "    # test set are going to do prediction.\n",
        "    Xtrain, Xtest, Ytrain, Ytest = train_test_split(X, Y, test_size=max_test_size)\n",
        "    _, times = cp_predict(Xtrain, Ytrain, Xtest, np.unique(Y), ncm, return_time=True, timeout=timeout)\n",
        "    \n",
        "    # Return the times\n",
        "    return times"
      ]
    },
    {
      "cell_type": "markdown",
      "metadata": {
        "id": "VRgvLSA0W7Va"
      },
      "source": [
        "## Classes\n"
      ]
    },
    {
      "cell_type": "markdown",
      "metadata": {
        "id": "2sEPgnzEGOkz"
      },
      "source": [
        "### NCM"
      ]
    },
    {
      "cell_type": "code",
      "execution_count": null,
      "metadata": {
        "id": "-CVDPkNnhAbW"
      },
      "outputs": [],
      "source": [
        "# Define a class for nonconformity measures.\n",
        "class NCM:\n",
        "\n",
        "  def name(self):\n",
        "    return self.__class__.__name__\n",
        "\n",
        "  # By default, this simply stores the training data as an element of the NCM object.\n",
        "  def train(self, X, Y):\n",
        "      self.X = np.array(X)\n",
        "      self.Y = np.array(Y)\n",
        "\n",
        "  # Should return the nonconformity scorer for the training data (X, Y), which is a \n",
        "  # function (x, y) -> score\n",
        "  def train_ncm(self, X, Y):\n",
        "      def example_scorer(x, y):\n",
        "          raise NotImplemented\n",
        "      \n",
        "      return example_scorer\n",
        "\n",
        "  # Returns a tuple: (score_x, scores) where score_x is the score for (x, y) and\n",
        "  # scores are the nonconformity scores for the training examples. \n",
        "  def compute_scores(self, x, y, only_score_x = False):\n",
        "    ncm = self.train_ncm(self.X, self.Y)\n",
        "    score_x = ncm(x, y)\n",
        "    \n",
        "    # If `only_score_x = True`, this method returns only the score for (x, y).\n",
        "    if only_score_x:\n",
        "        return score_x\n",
        "    \n",
        "    scores = []\n",
        "    \n",
        "    for i in range(len(self.X)):\n",
        "\n",
        "        # Score the i-th example, removing it from the training data set and appending (x, y) instead.\n",
        "        idx = np.array(list(range(len(self.X))))\n",
        "        ncm = self.train_ncm(np.row_stack((self.X[idx!=i,:], x)),np.append(self.Y[idx!=i], y))\n",
        "        scores.append(ncm(self.X[i,:], self.Y[i]))\n",
        "        \n",
        "    return score_x, scores"
      ]
    },
    {
      "cell_type": "markdown",
      "metadata": {
        "id": "QDIfXE8oGGIb"
      },
      "source": [
        "### MultinomialNB"
      ]
    },
    {
      "cell_type": "code",
      "execution_count": null,
      "metadata": {
        "id": "PBNRMKPUiBQa"
      },
      "outputs": [],
      "source": [
        "# Define a class to implement Naive Bayes Classifier for discrete variables.\n",
        "class MultinomialNB:\n",
        "\n",
        "  def __init__(self): \n",
        "    self.X = pd.DataFrame\n",
        "    self.Y = pd.Series\n",
        "    self.train_size = int\n",
        "    self.feature_num = int\n",
        "    self.features = list\n",
        "    self.classes = list\n",
        "    self.class_count = {}\n",
        "    self.value_count = {}\n",
        "\n",
        "  # Define a function to store the class counts in the dictionary 'self.class_count'.\n",
        "  def _calc_class_count(self):\n",
        "    # Because 'class' is an keyword identifier in python, we have to add an underline before.\n",
        "    for _class in self.classes:\n",
        "      _class_count = sum(self.Y == _class)\n",
        "      self.class_count[_class] = _class_count\n",
        "\n",
        "  # Define a function to store the feature value counts by classes, features \n",
        "  # and feature values in the dictionary 'self.value_count'.\n",
        "  def _calc_value_count(self):\n",
        "    for feature in self.features:\n",
        "\n",
        "      for _class in self.classes:\n",
        "        _class_count = sum(self.Y == _class)\n",
        "        value_count = self.X[feature][self.Y[self.Y == _class].index.values.tolist()].value_counts().to_dict()     \n",
        "        \n",
        "        for value, count in value_count.items():\n",
        "          self.value_count[feature][value + '_' + _class] = count\n",
        "  \n",
        "  # Define a function to fit the MultinomialNB on the training data X, Y\n",
        "  # and store the result in 'self.class_count' and 'self.value_count'.\n",
        "  def fit(self, X, Y):\n",
        "    self.X = pd.DataFrame(X)\n",
        "    self.Y = pd.Series(Y)\n",
        "    self.train_size = self.X.shape[0]\n",
        "    self.feature_num = self.X.shape[1]\n",
        "    self.features = list(self.X.columns)\n",
        "    self.classes = list(np.unique(self.Y))\n",
        "    \n",
        "    # Initialize the dictionaries 'self.class_count' and 'self.value_count' \n",
        "    # and set the default value to be 0\n",
        "    for feature in self.features:\n",
        "      self.value_count[feature] = {}\n",
        "\n",
        "      for value in np.unique(self.X[feature]):\n",
        "        for _class in self.classes:\n",
        "          self.value_count[feature].update({value+'_'+_class:0})\n",
        "          self.class_count.update({_class: 0})\n",
        "\n",
        "    self._calc_class_count()\n",
        "    self._calc_value_count()\n",
        "  \n",
        "  # Define a function to calculate posterior probability for the data instance x.\n",
        "  def predict_proba(self, x):\n",
        "    probs_outcome = []\n",
        "    x = np.array(x)\n",
        "\n",
        "    for _class in self.classes:\n",
        "\n",
        "      # Calculate the prior class probability 'prior'.\n",
        "      prior = self.class_count[_class] / self.train_size\n",
        "      likelihood = 1\n",
        "\n",
        "      # Calculate the likelihood of each feature and multiply them together.\n",
        "      for feature, x_feature_value in zip(self.features, x):\n",
        "        likelihood *= self.value_count[feature][x_feature_value + '_' + _class] / self.class_count[_class]\n",
        "      \n",
        "      # Calculate the final posterior probability for x.\n",
        "      posterior = likelihood * prior\n",
        "      probs_outcome.append(posterior)\n",
        "    \n",
        "    return probs_outcome"
      ]
    },
    {
      "cell_type": "markdown",
      "metadata": {
        "id": "uycoX-PvGgUu"
      },
      "source": [
        "### Standard TCP using MultinomialNB (STCPM)"
      ]
    },
    {
      "cell_type": "code",
      "execution_count": null,
      "metadata": {
        "id": "nsoUGBDJhXmQ"
      },
      "outputs": [],
      "source": [
        "# Define a class to implement Standard Transductive Conformal Predictor using MultinomialNB.\n",
        "class STCPM(NCM):\n",
        "  def train_ncm(self, X, Y):\n",
        "      mnb = MultinomialNB()\n",
        "      mnb.fit(X, Y)\n",
        "\n",
        "      def scorer(x, y):\n",
        "        y = int(y)\n",
        "        # Return the nonconformity score for a data instance x with class y.\n",
        "        return -mnb.predict_proba(x)[y]\n",
        "      \n",
        "      # Return the scorer to score any test data instance.\n",
        "      return scorer"
      ]
    },
    {
      "cell_type": "markdown",
      "metadata": {
        "id": "tqwOHwdZGs_W"
      },
      "source": [
        "### Optimized TCP using MultinomialNB (OTCPM)"
      ]
    },
    {
      "cell_type": "code",
      "execution_count": null,
      "metadata": {
        "id": "8AJ88IhwhYBW"
      },
      "outputs": [],
      "source": [
        "# Define a class to implement Optimized Transductive Conformal Predictor using MultinomialNB.\n",
        "# But we overowrite the 'compute_scores' function using incremental and decremental learning.\n",
        "class OTCPM(NCM):\n",
        "  \n",
        "  def __init__(self):\n",
        "    self.X = pd.DataFrame\n",
        "    self.Y = pd.Series\n",
        "    self.train_size = int\n",
        "    self.feature_num = int\n",
        "    self.features = list\n",
        "    self.classes = list\n",
        "    self.class_count = {}\n",
        "    self.value_count = {}\n",
        "\n",
        "  # Define a function to store the class counts in the dictionary 'self.class_count'. \n",
        "  def _calc_class_count(self): \n",
        "    for _class in self.classes:\n",
        "      _class_count = sum(self.Y == _class)\n",
        "      self.class_count[_class] = _class_count\n",
        "  \n",
        "  # Define a function to store the feature value counts by classes, features \n",
        "  # and feature values in the dictionary 'self.value_count'.\n",
        "  def _calc_value_count(self): \n",
        "    for feature in self.features:\n",
        "      for _class in self.classes:\n",
        "        _class_count = sum(self.Y == _class)\n",
        "        value_count = self.X[feature][self.Y[self.Y == _class].index.values.tolist()].value_counts().to_dict()\n",
        "        \n",
        "        for value, count in value_count.items():\n",
        "          self.value_count[feature][value + '_' + _class] = count\n",
        "  \n",
        "  # Define a function to fit the MultinomialNB on the training data X, Y\n",
        "  # and store the result in 'self.class_count' and 'self.value_count'. \n",
        "  def train(self, X, Y):\n",
        "    self.X = pd.DataFrame(X)\n",
        "    self.Y = pd.Series(Y)\n",
        "    self.train_size = self.X.shape[0]\n",
        "    self.feature_num = self.X.shape[1]\n",
        "    self.features = list(self.X.columns)\n",
        "    self.classes = list(np.unique(self.Y))\n",
        "      \n",
        "    for feature in self.features:\n",
        "      self.value_count[feature] = {}\n",
        "      \n",
        "      for value in np.unique(self.X[feature]):        \n",
        "        for _class in self.classes:\n",
        "          self.value_count[feature].update({value+'_'+_class:0})\n",
        "          self.class_count.update({_class: 0})\n",
        "    \n",
        "    self._calc_class_count()\n",
        "    self._calc_value_count()\n",
        "    \n",
        "  def compute_scores(self, x, y, only_score_x=False):\n",
        "\n",
        "    # Calculate the prior class probability 'prior'.\n",
        "    prior = self.class_count[y] / self.train_size\n",
        "    likelihood = 1\n",
        "      \n",
        "    # Calculate the likelihood of each feature and multiply them together.\n",
        "    for feature, x_feature_value in zip(self.features, x):\n",
        "        likelihood *= self.value_count[feature][x_feature_value + '_' + y] / self.class_count[y]\n",
        "      \n",
        "    # Calculate the final posterior probability for x.\n",
        "    posterior = likelihood * prior\n",
        "    \n",
        "    score_x = -posterior\n",
        "    \n",
        "    # If `only_score_x = True`, this method returns only the score for (x, y).\n",
        "    if only_score_x:\n",
        "      return score_x\n",
        "\n",
        "    # Add the test instance (x,y) to 'self.class_count' and 'self.value_count'.\n",
        "    self.train_size += 1\n",
        "    self.class_count[y] += 1\n",
        "    for feature, x_feature_value in zip(self.features, x):\n",
        "      self.value_count[feature][x_feature_value + '_' + y] += 1       \n",
        "\n",
        "    scores = []\n",
        "\n",
        "    # Compute score for each instance in the training data set.\n",
        "    for i in range(self.train_size-1):\n",
        "      x_out = self.X.iloc[i,:]\n",
        "      y_out = self.Y.iloc[i]\n",
        "\n",
        "      prior = (self.class_count[y_out] - 1) / (self.train_size - 1)\n",
        "\n",
        "      likelihood = 1\n",
        "      for feature, x_out_feature_value in zip(self.features, x_out):\n",
        "            likelihood *= (self.value_count[feature][x_out_feature_value + '_' + y_out] - 1) / (self.class_count[y_out] - 1)\n",
        "        \n",
        "      posterior = likelihood * prior\n",
        "\n",
        "      score = -posterior\n",
        "      scores.append(score)\n",
        "\n",
        "    # Remove the test instance (x,y) from 'self.class_count' and 'self.value_count'.\n",
        "    self.train_size -= 1\n",
        "    self.class_count[y] -= 1\n",
        "    for feature, x_feature_value in zip(self.features, x):\n",
        "      self.value_count[feature][x_feature_value + '_' + y] -= 1\n",
        "\n",
        "    return score_x, scores"
      ]
    },
    {
      "cell_type": "markdown",
      "metadata": {
        "id": "SOv76CimRubt"
      },
      "source": [
        "### GaussianNB\n"
      ]
    },
    {
      "cell_type": "code",
      "execution_count": null,
      "metadata": {
        "id": "St6rlXu2Xnbt"
      },
      "outputs": [],
      "source": [
        "# Define a class to implement Naive Bayes Classifier for continuous variables.\n",
        "class GaussianNB:\n",
        "\n",
        "  def __init__(self):\n",
        "    self.X = pd.DataFrame\n",
        "    self.Y = pd.Series\n",
        "    self.train_size = int\n",
        "    self.feature_num = int\n",
        "    self.features = list\n",
        "    self.classes = list\n",
        "    self.class_count = {}\n",
        "    self.value_sum = {}\n",
        "  \n",
        "  # Define a function to store the class counts in the dictionary 'self.class_count'.\n",
        "  def _calc_class_count(self):\n",
        "    for _class in self.classes:\n",
        "      _class_count = sum(self.Y == _class)\n",
        "      self.class_count[_class] = _class_count\n",
        "  \n",
        "  # Define a function to store the feature value 'sum' and 'sum_of_squares' by classes, features \n",
        "  # in the dictionary 'self.likelihoods'.\n",
        "  def _calc_value_sum(self):\n",
        "    for feature in self.features:\n",
        "      for _class in self.classes:\n",
        "        self.value_sum[feature][_class]['sum'] = self.X[feature][self.Y[self.Y == _class].index.values.tolist()].sum()\n",
        "        self.value_sum[feature][_class]['sum_of_squares'] = np.sum(np.square(self.X[feature][self.Y[self.Y == _class].index.values.tolist()]))\n",
        "\n",
        "  # Define a function to fit the GaussianNB on the training data X, Y\n",
        "  # and store the result in 'self.class_count' and 'self.value_sum'.\n",
        "  def fit(self, X, Y): \n",
        "    self.X = pd.DataFrame(X)\n",
        "    self.Y = pd.Series(Y)\n",
        "    self.train_size = self.X.shape[0]\n",
        "    self.feature_num = self.X.shape[1]\n",
        "    self.features = list(self.X.columns)\n",
        "    self.classes = list(np.unique(self.Y))\n",
        "   \n",
        "    # Initialize the dictionaries 'self.class_count' and 'self.value_sum' \n",
        "    # and set the default value to be 0\n",
        "    for feature in self.features:\n",
        "      self.value_sum[feature] = {}\n",
        "\n",
        "      for _class in self.classes:\n",
        "        self.value_sum[feature].update({_class:{}})\n",
        "        self.class_count.update({_class: 0})\n",
        "\n",
        "    self._calc_class_count()\n",
        "    self._calc_value_sum()\n",
        "\n",
        "  # Define a function to calculates posterior probability for a data object x.\n",
        "  def predict_proba(self, x):\n",
        "    probs_outcome = []\n",
        "    x = np.array(x)\n",
        "\n",
        "    for _class in self.classes:\n",
        "\n",
        "      # Calculate the prior class probability 'prior'.\n",
        "      prior = self.class_count[_class] / self.train_size\n",
        "      likelihood = 1\n",
        "\n",
        "      # Calculate the likelihood of each feature and multiply them together.\n",
        "      for feature, x_feature_value in zip(self.features, x):\n",
        "        mean = self.value_sum[feature][_class]['sum'] / self.class_count[_class]\n",
        "        var = (self.value_sum[feature][_class]['sum_of_squares'] / self.class_count[_class]) - mean**2\n",
        "        likelihood *= (1/math.sqrt(2*math.pi*var)) * np.exp(-(x_feature_value - mean)**2 / (2*var))\n",
        "              \n",
        "      # Calculate the final posterior probability for x.\n",
        "      posterior = likelihood * prior\n",
        "      probs_outcome.append(posterior)\n",
        "    \n",
        "    return probs_outcome"
      ]
    },
    {
      "cell_type": "markdown",
      "metadata": {
        "id": "oH-nuAunSA_M"
      },
      "source": [
        "### Standard TCP using GaussianNB (STCPG)"
      ]
    },
    {
      "cell_type": "code",
      "execution_count": null,
      "metadata": {
        "id": "7drdoMYvBJzj"
      },
      "outputs": [],
      "source": [
        "# Define a class to implement Standard Transductive Conformal Predictor using GaussianlNB.\n",
        "class STCPG(NCM):\n",
        "\n",
        "    def train_ncm(self, X, Y):\n",
        "        gnb = GaussianNB()\n",
        "        gnb.fit(X, Y)\n",
        "         \n",
        "        def scorer(x, y):\n",
        "          # Return the nonconformity score for a data object x with label y.\n",
        "          return -gnb.predict_proba(x)[y]\n",
        "        \n",
        "        # Return the scorer to score any test data object.\n",
        "        return scorer"
      ]
    },
    {
      "cell_type": "markdown",
      "metadata": {
        "id": "SGO-cUP1SBIj"
      },
      "source": [
        "### Optimized TCP using GaussianNB (OTCPG)"
      ]
    },
    {
      "cell_type": "code",
      "execution_count": null,
      "metadata": {
        "id": "uBbrn-tWG8B_"
      },
      "outputs": [],
      "source": [
        "# Define a class to implement Optimized Transductive Conformal Predictor using MultinomialNB.\n",
        "# But we overowrite the 'compute_scores' function using incremental and decremental learning.\n",
        "class OTCPG(NCM):\n",
        "  \n",
        "  def __init__(self):\n",
        "    self.X = pd.DataFrame\n",
        "    self.Y = pd.Series\n",
        "    self.train_size = int\n",
        "    self.feature_num = int\n",
        "    self.features = list\n",
        "    self.classes = list\n",
        "    self.class_count = {}\n",
        "    self.value_sum= {}\n",
        "    \n",
        "  # Define a function to store the prior class counts in the dictionary 'self.class_count'. \n",
        "  def _calc_class_count(self):\n",
        "    for _class in np.unique(self.Y):\n",
        "      _class_count = sum(self.Y == _class)\n",
        "      self.class_count[_class] = _class_count\n",
        "  \n",
        "  # Define a function to store the feature value 'sum' and 'sum_of_squares' by classes, features \n",
        "  # in the dictionary 'self.value_sum'.\n",
        "  def _calc_value_sum(self):\n",
        "    for feature in self.features:\n",
        "      for _class in self.classes:\n",
        "        self.value_sum[feature][_class]['sum'] = self.X[feature][self.Y[self.Y == _class].index.values.tolist()].sum()\n",
        "        self.value_sum[feature][_class]['sum_of_squares'] = np.sum(np.square(self.X[feature][self.Y[self.Y == _class].index.values.tolist()]))\n",
        "\n",
        "  \n",
        "  # Define a function to fit the GaussianNB on the training data X, Y\n",
        "  # and store the result in 'self.class_count' and 'self.value_sum'.\n",
        "  def train(self, X, Y):  \n",
        "    self.X = pd.DataFrame(X)\n",
        "    self.Y = pd.Series(Y)\n",
        "    self.train_size = self.X.shape[0]\n",
        "    self.feature_num = self.X.shape[1]\n",
        "    self.features = list(self.X.columns)\n",
        "    self.classes = list(np.unique(self.Y))\n",
        "\n",
        "    for feature in self.features:\n",
        "      self.value_sum[feature] = {}\n",
        "\n",
        "      for _class in self.classes:\n",
        "        self.value_sum[feature].update({_class:{}})\n",
        "        self.class_count.update({_class: 0})\n",
        "\n",
        "    self._calc_class_count()\n",
        "    self._calc_value_sum()\n",
        "    \n",
        "  def compute_scores(self, x, y, only_score_x=False):\n",
        "\n",
        "    # Calculate the prior class probability 'prior'.\n",
        "    prior = self.class_count[y] / self.train_size\n",
        "    likelihood = 1\n",
        "    \n",
        "    # Calculate the likelihood of each feature and multiply them together.\n",
        "    for feature, x_feature_value in zip(self.features, x):\n",
        "      mean = self.value_sum[feature][y]['sum'] / self.class_count[y]\n",
        "      var = self.value_sum[feature][y]['sum_of_squares'] / self.class_count[y] - mean**2\n",
        "      likelihood *= (1/math.sqrt(2*math.pi*var)) * np.exp(-(x_feature_value - mean)**2 / (2*var))\n",
        "    \n",
        "    # Calculate the final posterior probability for x.\n",
        "    posterior = likelihood * prior\n",
        "\n",
        "    score_x = -posterior\n",
        "    \n",
        "    # If `only_score_x = True`, this method returns only the prediction for (x, y).\n",
        "    if only_score_x:\n",
        "      return score_x\n",
        "\n",
        "    # Add the test instance (x,y) to 'self.class_count' and 'self.value_sum'.\n",
        "    self.train_size += 1\n",
        "    self.class_count[y] += 1\n",
        "    for feature, x_feature_value in zip(self.features, x):\n",
        "      self.value_sum[feature][y]['sum'] += x_feature_value\n",
        "      self.value_sum[feature][y]['sum_of_squares'] += x_feature_value**2 \n",
        "      \n",
        "    scores = []\n",
        "\n",
        "    for i in range(len(self.X)):\n",
        "      x_out = self.X.iloc[i,:]\n",
        "      y_out = self.Y.iloc[i]\n",
        "\n",
        "      prior = (self.class_count[y_out] - 1) / (self.train_size - 1)\n",
        "      likelihood = 1\n",
        "\n",
        "      for feature, x_out_feature_value in zip(self.features, x_out):\n",
        "        mean = (self.value_sum[feature][y_out]['sum'] - x_out_feature_value) / (self.class_count[y_out] - 1)\n",
        "        var = (self.value_sum[feature][y_out]['sum_of_squares'] - x_out_feature_value**2)/(self.class_count[y_out] - 1) - mean**2\n",
        "        likelihood *= (1/math.sqrt(2*math.pi*var)) * np.exp(-(x_out_feature_value - mean)**2 / (2*var))\n",
        "      \n",
        "      posterior = likelihood * prior\n",
        "        \n",
        "      score = -posterior\n",
        "      scores.append(score)\n",
        "\n",
        "    # Remove the test instance (x,y) from 'self.class_count' and 'self.value_sum'.\n",
        "    self.train_size -= 1\n",
        "    self.class_count[y] -= 1\n",
        "    for feature, x_feature_value in zip(self.features, x):\n",
        "      self.value_sum[feature][y]['sum'] -= x_feature_value\n",
        "      self.value_sum[feature][y]['sum_of_squares'] -= x_feature_value**2 \n",
        "\n",
        "    return score_x, scores"
      ]
    },
    {
      "cell_type": "markdown",
      "metadata": {
        "id": "jeejwoqOwTtN"
      },
      "source": [
        "# Correctness test"
      ]
    },
    {
      "cell_type": "markdown",
      "metadata": {
        "id": "1ZsamTLcxwfJ"
      },
      "source": [
        "## MultinomialNB"
      ]
    },
    {
      "cell_type": "code",
      "execution_count": null,
      "metadata": {
        "colab": {
          "base_uri": "https://localhost:8080/"
        },
        "id": "RdL_r2D-q1jo",
        "outputId": "b43c2b83-e5e9-4382-ad51-cc6385e121c9"
      },
      "outputs": [
        {
          "output_type": "stream",
          "name": "stderr",
          "text": [
            ".\n",
            "----------------------------------------------------------------------\n",
            "Ran 1 test in 0.024s\n",
            "\n",
            "OK\n"
          ]
        }
      ],
      "source": [
        "# Define a class to test MultinomialNB on hand-calculated values.\n",
        "# Mainly by comparing the output class prediction probabilities.\n",
        "class MultinomialNB_Test(unittest.TestCase):\n",
        "    \n",
        "    def test_MultinomialNB(self):\n",
        "      X = [[\"0\", \"0\"], [\"0\", \"1\"], [\"1\", \"0\"], [\"1\", \"1\"], [\"0\", \"1\"]]\n",
        "      Y = np.array([\"0\", \"1\", \"1\", \"0\", \"1\"])\n",
        "      x = [\"1\", \"1\"]\n",
        "      \n",
        "      \"\"\"\n",
        "      According to the training dataset above, we have 5 objects with 2 classes \n",
        "      (2 objects for class \"0\" and 3 objects for class \"1\"), and 2 features. \n",
        "      For each feature, we only have 2 types of feature values, both \"0\" and \"1\". \n",
        "      We summarize the counts by classes, features and feature values in the table below.\n",
        "\n",
        "      Class     Feature1_Value: \"0\"     Feature1_Value: \"1\"     Feature2_Value: \"0\"   Feature2_Value: \"1\"\n",
        "\n",
        "      \"0\"       1                       1                       1                     1\n",
        "\n",
        "      \"1\"       2                       1                       1                     2\n",
        "      \n",
        "      From this talbe, we can calculate the probability for the test object x.\n",
        "      \"\"\" \n",
        "      \n",
        "      # Probability for x to be 0\n",
        "      prob_x_0 =  2/5 * 1/2 * 1/2\n",
        "      # Probability for x to be 0\n",
        "      prob_x_1 = 3/5 * 1/3 * 2/3\n",
        "      \n",
        "      expected_prob = list([prob_x_0, prob_x_1])\n",
        "      \n",
        "      # Use our custom function 'MultinomialNB' to output the probability.\n",
        "      mnb = MultinomialNB()\n",
        "      mnb.fit(X, Y)\n",
        "      output = mnb.predict_proba(x)\n",
        "      output = list(output)\n",
        "\n",
        "      self.assertListEqual(output, expected_prob)\n",
        "\n",
        "suite = unittest.defaultTestLoader.loadTestsFromTestCase(MultinomialNB_Test)\n",
        "_ = unittest.TextTestRunner().run(suite)"
      ]
    },
    {
      "cell_type": "markdown",
      "metadata": {
        "id": "-S3WHRl1x14U"
      },
      "source": [
        "## GaussianNB"
      ]
    },
    {
      "cell_type": "code",
      "execution_count": null,
      "metadata": {
        "colab": {
          "base_uri": "https://localhost:8080/"
        },
        "id": "XPwkRtM49RmN",
        "outputId": "85c1278e-75ee-49a0-8be6-1b441f30b2cc"
      },
      "outputs": [
        {
          "output_type": "stream",
          "name": "stderr",
          "text": [
            ".\n",
            "----------------------------------------------------------------------\n",
            "Ran 1 test in 0.014s\n",
            "\n",
            "OK\n"
          ]
        }
      ],
      "source": [
        "# Define a class to test GaussianNB on hand-calculated values.\n",
        "# Mainly by comparing the output class prediction probabilities.\n",
        "class GaussianNB_Test(unittest.TestCase):\n",
        "\n",
        "    def test_GaussianNB(self):\n",
        "      X = [[0.0, 0.1], [0.2, 0.3], [0.4, 0.5], [0.6, 0.7], [0.8, 0.9]]\n",
        "      Y = np.array([0, 1, 1, 0, 1])\n",
        "      x = [1.0, 1.0]\n",
        "\n",
        "      X = pd.DataFrame(X)\n",
        "      Y = pd.Series(Y)\n",
        "\n",
        "      # Get the class counts.\n",
        "      count_c0 = Y[Y==0].count()\n",
        "      count_c1 = Y[Y==1].count()\n",
        "\n",
        "      # Get the mean and var by classes and features.      \n",
        "      mean_c0_f0 = X.iloc[Y[Y==0].index,0].mean()\n",
        "      mean_c0_f1 = X.iloc[Y[Y==0].index,1].mean()\n",
        "      mean_c1_f0 = X.iloc[Y[Y==1].index,0].mean()\n",
        "      mean_c1_f1 = X.iloc[Y[Y==1].index,1].mean()\n",
        "      var_c0_f0 = X.iloc[Y[Y==0].index,0].var(ddof = 0)\n",
        "      var_c0_f1 = X.iloc[Y[Y==0].index,1].var(ddof = 0)\n",
        "      var_c1_f0 = X.iloc[Y[Y==1].index,0].var(ddof = 0)\n",
        "      var_c1_f1 = X.iloc[Y[Y==1].index,1].var(ddof = 0)\n",
        "\n",
        "      # Probability for x to be 0\n",
        "      prob_x_0 = count_c0 / 5 * (1/math.sqrt(2*math.pi*var_c0_f0)) * np.exp(-(x[0] - mean_c0_f0)**2 / (2*var_c0_f0)) \\\n",
        "                              * (1/math.sqrt(2*math.pi*var_c0_f1)) * np.exp(-(x[1] - mean_c0_f1)**2 / (2*var_c0_f1))\n",
        "\n",
        "      # Probability for x to be 1\n",
        "      prob_x_1 = count_c1 / 5 * (1/math.sqrt(2*math.pi*var_c1_f0)) * np.exp(-(x[0] - mean_c1_f0)**2 / (2*var_c1_f0)) \\\n",
        "                              * (1/math.sqrt(2*math.pi*var_c1_f1)) * np.exp(-(x[1] - mean_c1_f1)**2 / (2*var_c1_f1))\n",
        "            \n",
        "      expected_prob = [prob_x_0, prob_x_1]\n",
        "      \n",
        "      # Use our custom function 'MultinomialNB' to output the probability.\n",
        "      gnb = GaussianNB()\n",
        "      gnb.fit(X, Y)\n",
        "      output = gnb.predict_proba(x)\n",
        "      # Because the precision of the decimal point is different, we're just going to go to \n",
        "      # 7 decimal places to see if it's equal.\n",
        "      np.testing.assert_allclose(output, expected_prob, rtol=1e-7)\n",
        "\n",
        "suite = unittest.defaultTestLoader.loadTestsFromTestCase(GaussianNB_Test)\n",
        "_ = unittest.TextTestRunner().run(suite)"
      ]
    },
    {
      "cell_type": "markdown",
      "metadata": {
        "id": "25lapKpDM7NQ"
      },
      "source": [
        "# Consistency test"
      ]
    },
    {
      "cell_type": "markdown",
      "metadata": {
        "id": "K0S7unYbw6-z"
      },
      "source": [
        "## STCPM vs OTCPM\n"
      ]
    },
    {
      "cell_type": "code",
      "execution_count": null,
      "metadata": {
        "colab": {
          "base_uri": "https://localhost:8080/",
          "height": 734
        },
        "id": "43fgO0OI9CFr",
        "outputId": "daf5b214-644e-43b3-f6cc-4db3a68c64b8"
      },
      "outputs": [
        {
          "output_type": "stream",
          "name": "stdout",
          "text": [
            "Testing: STCPM, OTCPM\n",
            "p-value: 0.33 0.33\n"
          ]
        },
        {
          "output_type": "stream",
          "name": "stderr",
          "text": [
            ".\n",
            "----------------------------------------------------------------------\n",
            "Ran 1 test in 2.930s\n",
            "\n",
            "OK\n"
          ]
        },
        {
          "output_type": "display_data",
          "data": {
            "text/plain": [
              "<Figure size 2000x1000 with 2 Axes>"
            ],
            "image/png": "[encoded data removed]"
          },
          "metadata": {}
        }
      ],
      "source": [
        "# Define a class to verify that STCPM is equivalent to OTCPM.\n",
        "# Mainly by comparing nonconformity measure scores.\n",
        "class STCPM_vs_OTCPM_Test(unittest.TestCase):\n",
        "    \n",
        "    def setUp(self):       \n",
        "        X, Y = load_iris(return_X_y=True)\n",
        "        # Convert feature value into 0 or 1 by using MinMaxScaler() and round() functions.\n",
        "        scaler = MinMaxScaler()\n",
        "        X = scaler.fit_transform(X)\n",
        "        X = np.round(X).astype(int)\n",
        "        # Only consider 2 classes (the first 100 instances, 50 for each class) for simplicity.\n",
        "        X = X[0:100]\n",
        "        Y = Y[0:100]\n",
        "        X = X.astype(str)\n",
        "        Y = Y.astype(str)\n",
        "        \n",
        "        np.random.seed(0)\n",
        "        self.Xtrain, self.Xtest, self.Ytrain, self.Ytest = train_test_split(X, Y, test_size=1, random_state=0)\n",
        "    \n",
        "    @parameterized.expand([\n",
        "        [STCPM(), OTCPM()]])\n",
        "    \n",
        "    def test_equivalent(self, ncm_a, ncm_b, rtol=1e-07):\n",
        "        print(f\"Testing: {ncm_a.__class__.__name__}, {ncm_b.__class__.__name__}\")\n",
        "        ncm_a.train(self.Xtrain, self.Ytrain)\n",
        "        ncm_b.train(self.Xtrain, self.Ytrain)\n",
        "        \n",
        "        for x, y in zip(self.Xtest, self.Ytest):\n",
        "            score_x_a, scores_a = ncm_a.compute_scores(x, y)\n",
        "            score_x_b, scores_b = ncm_b.compute_scores(x, y)\n",
        "            scores_a = np.array(scores_a)\n",
        "            scores_b = np.array(scores_b)\n",
        "            pvalue_a = (1 + sum(score_x_a >= scores_a)) / (1 + len(scores_a))\n",
        "            pvalue_b = (1 + sum(score_x_b >= scores_b)) / (1 + len(scores_b))\n",
        "            np.testing.assert_allclose(score_x_a, score_x_b, rtol=rtol)\n",
        "            np.testing.assert_allclose(scores_a, scores_b, rtol=rtol)\n",
        "            np.testing.assert_allclose(pvalue_a, pvalue_b, rtol=rtol)\n",
        "\n",
        "            print(\"p-value:\", pvalue_a, pvalue_b)\n",
        "\n",
        "            # Collect 100 nonconformity measure socres.\n",
        "            scores_a = list(scores_a)\n",
        "            scores_b = list(scores_b)\n",
        "            scores_a.insert(0,score_x_a)\n",
        "            scores_b.insert(0,score_x_b)\n",
        "\n",
        "            score = pd.DataFrame(\n",
        "                {'Index':np.arange(1,101),\n",
        "                 'STCPM': scores_a,\n",
        "                 'OTCPM': scores_b\n",
        "                 })\n",
        "            pvalue = pd.DataFrame(\n",
        "                {'Index':np.arange(1,2),\n",
        "                 'STCPM': pvalue_a,\n",
        "                 'OTCPM': pvalue_b\n",
        "                 })\n",
        "            \n",
        "            fig, axes = plt.subplots(nrows=1, ncols=2, figsize=(20,10), gridspec_kw={'width_ratios': [8, 1]}, sharey = True)\n",
        "            fig.suptitle('Consistency Test of STCPM and OTCPM by Comparing the Nonconformity Measure Score and p-value', fontsize=20)\n",
        "            score.plot(x=\"Index\", y=[\"STCPM\", \"OTCPM\"], rot=0, kind=\"bar\",ylim = (-1,1),xticks = np.arange(0,101,10),title = 'Nonconformity Measure Score',ax=axes[0])\n",
        "            axes[0].title.set_size(30)\n",
        "            axes[0].legend(fontsize=20)\n",
        "            axes[0].set_xlabel('100 Instances (1 Test Instance and 99 Training Instances)', fontsize=18)\n",
        "            axes[0].tick_params(axis='both', labelsize=15)\n",
        "            pvalue.plot(x=\"Index\", y=[\"STCPM\", \"OTCPM\"], rot=0, kind=\"bar\",ylim = (-1,1),xticks = np.arange(0,1,1),title = 'p-value', ax=axes[1], legend=False)\n",
        "            axes[1].title.set_size(30)\n",
        "            axes[1].set_xlabel('1 Test Instance', fontsize=18)\n",
        "            axes[1].tick_params(axis='both', labelsize=15)\n",
        "\n",
        "suite = unittest.defaultTestLoader.loadTestsFromTestCase(STCPM_vs_OTCPM_Test)\n",
        "_ = unittest.TextTestRunner().run(suite)"
      ]
    },
    {
      "cell_type": "markdown",
      "metadata": {
        "id": "S43qaDZKxio2"
      },
      "source": [
        "## STCPG vs OTCPG"
      ]
    },
    {
      "cell_type": "code",
      "execution_count": null,
      "metadata": {
        "colab": {
          "base_uri": "https://localhost:8080/",
          "height": 744
        },
        "id": "3Nf3MDJg9Cvz",
        "outputId": "2c0e4ddf-b9ea-442e-bded-ed60e4de8f5f"
      },
      "outputs": [
        {
          "output_type": "stream",
          "name": "stdout",
          "text": [
            "Testing: STCPG, OTCPG\n",
            "p-value: 0.27 0.27\n"
          ]
        },
        {
          "output_type": "stream",
          "name": "stderr",
          "text": [
            ".\n",
            "----------------------------------------------------------------------\n",
            "Ran 1 test in 2.260s\n",
            "\n",
            "OK\n"
          ]
        },
        {
          "output_type": "display_data",
          "data": {
            "text/plain": [
              "<Figure size 2000x1000 with 2 Axes>"
            ],
            "image/png": "[encoded data removed]"
          },
          "metadata": {}
        }
      ],
      "source": [
        "# Define a class to verify that STCPG is equivalent to OTCPG.\n",
        "# Mainly by comparing nonconformity measure scores.\n",
        "class STCPG_vs_OTCPG_Test(unittest.TestCase):\n",
        "    \n",
        "    def setUp(self):       \n",
        "        X, Y = load_iris(return_X_y=True)\n",
        "        # Only consider 2 classes (the first 100 instances, 50 for each class) for simplicity.\n",
        "        X = X[0:100]\n",
        "        Y = Y[0:100]  \n",
        "        \n",
        "        np.random.seed(0)\n",
        "        self.Xtrain, self.Xtest, self.Ytrain, self.Ytest = train_test_split(X, Y, test_size=1,random_state=0)\n",
        "    \n",
        "    @parameterized.expand([\n",
        "        [STCPG(), OTCPG()]])\n",
        "    \n",
        "    def test_equivalent(self, ncm_a, ncm_b, rtol=1e-07):\n",
        "        print(f\"Testing: {ncm_a.__class__.__name__}, {ncm_b.__class__.__name__}\")\n",
        "        ncm_a.train(self.Xtrain, self.Ytrain)\n",
        "        ncm_b.train(self.Xtrain, self.Ytrain)\n",
        "        \n",
        "        for x, y in zip(self.Xtest, self.Ytest):\n",
        "            score_x_a, scores_a = ncm_a.compute_scores(x, y)\n",
        "            score_x_b, scores_b = ncm_b.compute_scores(x, y)\n",
        "            scores_a = np.array(scores_a)\n",
        "            scores_b = np.array(scores_b)\n",
        "            pvalue_a = (1 + sum(score_x_a >= scores_a)) / (1 + len(scores_a))\n",
        "            pvalue_b = (1 + sum(score_x_b >= scores_b)) / (1 + len(scores_b))\n",
        "            np.testing.assert_allclose(score_x_a, score_x_b, rtol=rtol)\n",
        "            np.testing.assert_allclose(scores_a, scores_b, rtol=rtol)\n",
        "            np.testing.assert_allclose(pvalue_a, pvalue_b, rtol=rtol)\n",
        "\n",
        "            print(\"p-value:\", pvalue_a, pvalue_b)\n",
        "\n",
        "            # Collect 100 nonconformity measure socres.\n",
        "            scores_a = list(scores_a)\n",
        "            scores_b = list(scores_b)\n",
        "            scores_a.insert(0,score_x_a)\n",
        "            scores_b.insert(0,score_x_b)\n",
        "\n",
        "            score = pd.DataFrame(\n",
        "                {'Index':np.arange(1,101),\n",
        "                 'STCPG': scores_a,\n",
        "                 'OTCPG': scores_b\n",
        "                 })\n",
        "            pvalue = pd.DataFrame(\n",
        "                {'Index':np.arange(1,2),\n",
        "                 'STCPG': pvalue_a,\n",
        "                 'OTCPG': pvalue_b\n",
        "                 })\n",
        "            \n",
        "            fig, axes = plt.subplots(nrows=1, ncols=2, figsize=(20,10), gridspec_kw={'width_ratios': [8, 1]}, sharey = True)\n",
        "            fig.suptitle('Consistency Test of STCPG and OTCPG by Comparing the Nonconformity Measure Score and p-value', fontsize=20)\n",
        "            score.plot(x=\"Index\", y=[\"STCPG\", \"OTCPG\"], rot=0, kind=\"bar\",ylim = (-5,1),xticks = np.arange(0,101,10),title = 'Nonconformity Measure Score', ax=axes[0])\n",
        "            axes[0].title.set_size(30)\n",
        "            axes[0].legend(fontsize=20)\n",
        "            axes[0].set_xlabel('100 Instances (1 Test Instance and 99 Training Instances)', fontsize=18)\n",
        "            axes[0].tick_params(axis='both', labelsize=15)\n",
        "            pvalue.plot(x=\"Index\", y=[\"STCPG\", \"OTCPG\"], rot=0, kind=\"bar\",ylim = (-5,1),xticks = np.arange(0,1), title = 'p-value', ax=axes[1], legend=False)\n",
        "            axes[1].title.set_size(30)\n",
        "            axes[1].set_xlabel('1 Test Instance', fontsize=18)\n",
        "            axes[1].tick_params(axis='both', labelsize=15)\n",
        "suite = unittest.defaultTestLoader.loadTestsFromTestCase(STCPG_vs_OTCPG_Test)\n",
        "_ = unittest.TextTestRunner().run(suite)"
      ]
    },
    {
      "cell_type": "markdown",
      "metadata": {
        "id": "3vyx2Y7opRoG"
      },
      "source": [
        "# Computational performance comparison\n"
      ]
    },
    {
      "cell_type": "markdown",
      "metadata": {
        "id": "wZyuSt2ix8mq"
      },
      "source": [
        "## Experiment"
      ]
    },
    {
      "cell_type": "markdown",
      "metadata": {
        "id": "Hg9JRGhoRZgw"
      },
      "source": [
        "### Set Up Parameters "
      ]
    },
    {
      "cell_type": "code",
      "execution_count": null,
      "metadata": {
        "id": "T7EEmYNsZ3O9"
      },
      "outputs": [],
      "source": [
        "EXPERIMENT_NAME = \"training-size-comparison\"\n",
        "RESULTS_DIR = \"results/\"\n",
        "# REPETITIONS = 5\n",
        "REPETITIONS = 2\n",
        "# TRAIN_SIZE = np.logspace(1, 5, 13, dtype='int').tolist()\n",
        "TRAIN_SIZE = np.logspace(1, 3, 13, dtype='int').tolist()\n",
        "# TRAIN_SIZE = np.logspace(1, 2, 13, dtype='int').tolist()\n",
        "# MAX_TEST_SIZE = 100\n",
        "MAX_TEST_SIZE = 10\n",
        "N_CLASSES = 2\n",
        "# N_DIMENSIONS = 30\n",
        "N_DIMENSIONS = 5\n",
        "TIMEOUT = 60*60*10"
      ]
    },
    {
      "cell_type": "markdown",
      "metadata": {
        "id": "ziPs8nkQR-tN"
      },
      "source": [
        "### STCPM vs OTCPM"
      ]
    },
    {
      "cell_type": "code",
      "execution_count": null,
      "metadata": {
        "colab": {
          "base_uri": "https://localhost:8080/"
        },
        "id": "zMKkZwx0Z2wc",
        "outputId": "529772b4-3e2c-4875-ce15-89d9f4b8bc76"
      },
      "outputs": [
        {
          "output_type": "stream",
          "name": "stdout",
          "text": [
            "Running: results/training-size-comparison/ncm=STCPM-train_size=10-max_test_size=10-n_classes=2-n_dimensions=5-timeout=36000-is_mnb=True/0.json\n",
            "Running: results/training-size-comparison/ncm=STCPM-train_size=10-max_test_size=10-n_classes=2-n_dimensions=5-timeout=36000-is_mnb=True/1.jsonRunning: results/training-size-comparison/ncm=STCPM-train_size=100-max_test_size=10-n_classes=2-n_dimensions=5-timeout=36000-is_mnb=True/1.jsonRunning: results/training-size-comparison/ncm=OTCPM-train_size=14-max_test_size=10-n_classes=2-n_dimensions=5-timeout=36000-is_mnb=True/1.json\n",
            "Running: results/training-size-comparison/ncm=OTCPM-train_size=100-max_test_size=10-n_classes=2-n_dimensions=5-timeout=36000-is_mnb=True/0.json\n",
            "\n",
            "Running: results/training-size-comparison/ncm=STCPM-train_size=14-max_test_size=10-n_classes=2-n_dimensions=5-timeout=36000-is_mnb=True/0.jsonRunning: results/training-size-comparison/ncm=STCPM-train_size=14-max_test_size=10-n_classes=2-n_dimensions=5-timeout=36000-is_mnb=True/1.json\n",
            "\n",
            "Running: results/training-size-comparison/ncm=OTCPM-train_size=46-max_test_size=10-n_classes=2-n_dimensions=5-timeout=36000-is_mnb=True/1.jsonRunning: results/training-size-comparison/ncm=OTCPM-train_size=10-max_test_size=10-n_classes=2-n_dimensions=5-timeout=36000-is_mnb=True/0.jsonRunning: results/training-size-comparison/ncm=STCPM-train_size=146-max_test_size=10-n_classes=2-n_dimensions=5-timeout=36000-is_mnb=True/1.jsonRunning: results/training-size-comparison/ncm=STCPM-train_size=68-max_test_size=10-n_classes=2-n_dimensions=5-timeout=36000-is_mnb=True/1.jsonRunning: results/training-size-comparison/ncm=OTCPM-train_size=21-max_test_size=10-n_classes=2-n_dimensions=5-timeout=36000-is_mnb=True/1.jsonRunning: results/training-size-comparison/ncm=OTCPM-train_size=46-max_test_size=10-n_classes=2-n_dimensions=5-timeout=36000-is_mnb=True/0.json\n",
            "Running: results/training-size-comparison/ncm=STCPM-train_size=46-max_test_size=10-n_classes=2-n_dimensions=5-timeout=36000-is_mnb=True/0.jsonRunning: results/training-size-comparison/ncm=STCPM-train_size=316-max_test_size=10-n_classes=2-n_dimensions=5-timeout=36000-is_mnb=True/1.jsonRunning: results/training-size-comparison/ncm=STCPM-train_size=21-max_test_size=10-n_classes=2-n_dimensions=5-timeout=36000-is_mnb=True/0.json\n",
            "\n",
            "\n",
            "\n",
            "Running: results/training-size-comparison/ncm=OTCPM-train_size=10-max_test_size=10-n_classes=2-n_dimensions=5-timeout=36000-is_mnb=True/1.jsonRunning: results/training-size-comparison/ncm=STCPM-train_size=21-max_test_size=10-n_classes=2-n_dimensions=5-timeout=36000-is_mnb=True/1.jsonRunning: results/training-size-comparison/ncm=STCPM-train_size=46-max_test_size=10-n_classes=2-n_dimensions=5-timeout=36000-is_mnb=True/1.jsonRunning: results/training-size-comparison/ncm=STCPM-train_size=1000-max_test_size=10-n_classes=2-n_dimensions=5-timeout=36000-is_mnb=True/0.jsonRunning: results/training-size-comparison/ncm=OTCPM-train_size=100-max_test_size=10-n_classes=2-n_dimensions=5-timeout=36000-is_mnb=True/1.jsonRunning: results/training-size-comparison/ncm=STCPM-train_size=316-max_test_size=10-n_classes=2-n_dimensions=5-timeout=36000-is_mnb=True/0.json\n",
            "\n",
            "\n",
            "Running: results/training-size-comparison/ncm=OTCPM-train_size=31-max_test_size=10-n_classes=2-n_dimensions=5-timeout=36000-is_mnb=True/1.json\n",
            "Running: results/training-size-comparison/ncm=OTCPM-train_size=68-max_test_size=10-n_classes=2-n_dimensions=5-timeout=36000-is_mnb=True/1.jsonRunning: results/training-size-comparison/ncm=STCPM-train_size=100-max_test_size=10-n_classes=2-n_dimensions=5-timeout=36000-is_mnb=True/0.jsonRunning: results/training-size-comparison/ncm=STCPM-train_size=31-max_test_size=10-n_classes=2-n_dimensions=5-timeout=36000-is_mnb=True/0.json\n",
            "Running: results/training-size-comparison/ncm=STCPM-train_size=681-max_test_size=10-n_classes=2-n_dimensions=5-timeout=36000-is_mnb=True/0.jsonRunning: results/training-size-comparison/ncm=STCPM-train_size=215-max_test_size=10-n_classes=2-n_dimensions=5-timeout=36000-is_mnb=True/0.jsonRunning: results/training-size-comparison/ncm=OTCPM-train_size=31-max_test_size=10-n_classes=2-n_dimensions=5-timeout=36000-is_mnb=True/0.jsonRunning: results/training-size-comparison/ncm=STCPM-train_size=68-max_test_size=10-n_classes=2-n_dimensions=5-timeout=36000-is_mnb=True/0.jsonRunning: results/training-size-comparison/ncm=STCPM-train_size=681-max_test_size=10-n_classes=2-n_dimensions=5-timeout=36000-is_mnb=True/1.json\n",
            "Running: results/training-size-comparison/ncm=STCPM-train_size=464-max_test_size=10-n_classes=2-n_dimensions=5-timeout=36000-is_mnb=True/1.jsonRunning: results/training-size-comparison/ncm=STCPM-train_size=464-max_test_size=10-n_classes=2-n_dimensions=5-timeout=36000-is_mnb=True/0.jsonRunning: results/training-size-comparison/ncm=OTCPM-train_size=21-max_test_size=10-n_classes=2-n_dimensions=5-timeout=36000-is_mnb=True/0.json\n",
            "Running: results/training-size-comparison/ncm=STCPM-train_size=215-max_test_size=10-n_classes=2-n_dimensions=5-timeout=36000-is_mnb=True/1.json\n",
            "Running: results/training-size-comparison/ncm=OTCPM-train_size=68-max_test_size=10-n_classes=2-n_dimensions=5-timeout=36000-is_mnb=True/0.jsonRunning: results/training-size-comparison/ncm=STCPM-train_size=1000-max_test_size=10-n_classes=2-n_dimensions=5-timeout=36000-is_mnb=True/1.jsonRunning: results/training-size-comparison/ncm=STCPM-train_size=146-max_test_size=10-n_classes=2-n_dimensions=5-timeout=36000-is_mnb=True/0.json\n",
            "\n",
            "\n",
            "\n",
            "\n",
            "Running: results/training-size-comparison/ncm=STCPM-train_size=31-max_test_size=10-n_classes=2-n_dimensions=5-timeout=36000-is_mnb=True/1.json\n",
            "\n",
            "\n",
            "\n",
            "Running: results/training-size-comparison/ncm=OTCPM-train_size=14-max_test_size=10-n_classes=2-n_dimensions=5-timeout=36000-is_mnb=True/0.json\n",
            "\n",
            "\n",
            "\n",
            "\n",
            "\n",
            "\n",
            "\n",
            "\n",
            "\n",
            "\n",
            "\n",
            "Finished: results/training-size-comparison/ncm=OTCPM-train_size=10-max_test_size=10-n_classes=2-n_dimensions=5-timeout=36000-is_mnb=True/0.jsonFinished: results/training-size-comparison/ncm=OTCPM-train_size=14-max_test_size=10-n_classes=2-n_dimensions=5-timeout=36000-is_mnb=True/1.json\n",
            "\n",
            "Finished: results/training-size-comparison/ncm=OTCPM-train_size=10-max_test_size=10-n_classes=2-n_dimensions=5-timeout=36000-is_mnb=True/1.json\n",
            "Finished: results/training-size-comparison/ncm=OTCPM-train_size=14-max_test_size=10-n_classes=2-n_dimensions=5-timeout=36000-is_mnb=True/0.jsonRunning: results/training-size-comparison/ncm=OTCPM-train_size=146-max_test_size=10-n_classes=2-n_dimensions=5-timeout=36000-is_mnb=True/1.json\n",
            "Finished: results/training-size-comparison/ncm=OTCPM-train_size=21-max_test_size=10-n_classes=2-n_dimensions=5-timeout=36000-is_mnb=True/0.json\n",
            "\n",
            "Finished: results/training-size-comparison/ncm=OTCPM-train_size=21-max_test_size=10-n_classes=2-n_dimensions=5-timeout=36000-is_mnb=True/1.json\n",
            "Running: results/training-size-comparison/ncm=OTCPM-train_size=146-max_test_size=10-n_classes=2-n_dimensions=5-timeout=36000-is_mnb=True/0.json\n",
            "Running: results/training-size-comparison/ncm=OTCPM-train_size=215-max_test_size=10-n_classes=2-n_dimensions=5-timeout=36000-is_mnb=True/0.json\n",
            "Running: results/training-size-comparison/ncm=OTCPM-train_size=215-max_test_size=10-n_classes=2-n_dimensions=5-timeout=36000-is_mnb=True/1.jsonRunning: results/training-size-comparison/ncm=OTCPM-train_size=316-max_test_size=10-n_classes=2-n_dimensions=5-timeout=36000-is_mnb=True/0.jsonRunning: results/training-size-comparison/ncm=OTCPM-train_size=316-max_test_size=10-n_classes=2-n_dimensions=5-timeout=36000-is_mnb=True/1.json\n",
            "\n",
            "\n",
            "Finished: results/training-size-comparison/ncm=OTCPM-train_size=31-max_test_size=10-n_classes=2-n_dimensions=5-timeout=36000-is_mnb=True/0.jsonFinished: results/training-size-comparison/ncm=OTCPM-train_size=31-max_test_size=10-n_classes=2-n_dimensions=5-timeout=36000-is_mnb=True/1.json\n",
            "\n",
            "Finished: results/training-size-comparison/ncm=OTCPM-train_size=46-max_test_size=10-n_classes=2-n_dimensions=5-timeout=36000-is_mnb=True/1.json\n",
            "Running: results/training-size-comparison/ncm=OTCPM-train_size=464-max_test_size=10-n_classes=2-n_dimensions=5-timeout=36000-is_mnb=True/1.json\n",
            "Running: results/training-size-comparison/ncm=OTCPM-train_size=464-max_test_size=10-n_classes=2-n_dimensions=5-timeout=36000-is_mnb=True/0.jsonFinished: results/training-size-comparison/ncm=OTCPM-train_size=46-max_test_size=10-n_classes=2-n_dimensions=5-timeout=36000-is_mnb=True/0.json\n",
            "\n",
            "Running: results/training-size-comparison/ncm=OTCPM-train_size=681-max_test_size=10-n_classes=2-n_dimensions=5-timeout=36000-is_mnb=True/0.json\n",
            "Running: results/training-size-comparison/ncm=OTCPM-train_size=681-max_test_size=10-n_classes=2-n_dimensions=5-timeout=36000-is_mnb=True/1.json\n",
            "Finished: results/training-size-comparison/ncm=OTCPM-train_size=68-max_test_size=10-n_classes=2-n_dimensions=5-timeout=36000-is_mnb=True/0.json\n",
            "Finished: results/training-size-comparison/ncm=OTCPM-train_size=68-max_test_size=10-n_classes=2-n_dimensions=5-timeout=36000-is_mnb=True/1.json\n",
            "Running: results/training-size-comparison/ncm=OTCPM-train_size=1000-max_test_size=10-n_classes=2-n_dimensions=5-timeout=36000-is_mnb=True/0.json\n",
            "Running: results/training-size-comparison/ncm=OTCPM-train_size=1000-max_test_size=10-n_classes=2-n_dimensions=5-timeout=36000-is_mnb=True/1.json\n",
            "Finished: results/training-size-comparison/ncm=OTCPM-train_size=100-max_test_size=10-n_classes=2-n_dimensions=5-timeout=36000-is_mnb=True/1.json\n",
            "Finished: results/training-size-comparison/ncm=OTCPM-train_size=100-max_test_size=10-n_classes=2-n_dimensions=5-timeout=36000-is_mnb=True/0.json\n",
            "Finished: results/training-size-comparison/ncm=OTCPM-train_size=146-max_test_size=10-n_classes=2-n_dimensions=5-timeout=36000-is_mnb=True/0.json\n",
            "Finished: results/training-size-comparison/ncm=OTCPM-train_size=146-max_test_size=10-n_classes=2-n_dimensions=5-timeout=36000-is_mnb=True/1.json\n",
            "Finished: results/training-size-comparison/ncm=OTCPM-train_size=215-max_test_size=10-n_classes=2-n_dimensions=5-timeout=36000-is_mnb=True/0.json\n",
            "Finished: results/training-size-comparison/ncm=OTCPM-train_size=215-max_test_size=10-n_classes=2-n_dimensions=5-timeout=36000-is_mnb=True/1.json\n",
            "Finished: results/training-size-comparison/ncm=OTCPM-train_size=316-max_test_size=10-n_classes=2-n_dimensions=5-timeout=36000-is_mnb=True/1.jsonFinished: results/training-size-comparison/ncm=OTCPM-train_size=316-max_test_size=10-n_classes=2-n_dimensions=5-timeout=36000-is_mnb=True/0.json\n",
            "\n",
            "Finished: results/training-size-comparison/ncm=OTCPM-train_size=464-max_test_size=10-n_classes=2-n_dimensions=5-timeout=36000-is_mnb=True/1.json\n",
            "Finished: results/training-size-comparison/ncm=OTCPM-train_size=464-max_test_size=10-n_classes=2-n_dimensions=5-timeout=36000-is_mnb=True/0.json\n",
            "Finished: results/training-size-comparison/ncm=OTCPM-train_size=681-max_test_size=10-n_classes=2-n_dimensions=5-timeout=36000-is_mnb=True/1.json\n",
            "Finished: results/training-size-comparison/ncm=OTCPM-train_size=681-max_test_size=10-n_classes=2-n_dimensions=5-timeout=36000-is_mnb=True/0.json\n",
            "Finished: results/training-size-comparison/ncm=OTCPM-train_size=1000-max_test_size=10-n_classes=2-n_dimensions=5-timeout=36000-is_mnb=True/1.json\n",
            "Finished: results/training-size-comparison/ncm=OTCPM-train_size=1000-max_test_size=10-n_classes=2-n_dimensions=5-timeout=36000-is_mnb=True/0.json\n",
            "Finished: results/training-size-comparison/ncm=STCPM-train_size=10-max_test_size=10-n_classes=2-n_dimensions=5-timeout=36000-is_mnb=True/1.json\n",
            "Finished: results/training-size-comparison/ncm=STCPM-train_size=10-max_test_size=10-n_classes=2-n_dimensions=5-timeout=36000-is_mnb=True/0.json\n",
            "Finished: results/training-size-comparison/ncm=STCPM-train_size=14-max_test_size=10-n_classes=2-n_dimensions=5-timeout=36000-is_mnb=True/1.json\n",
            "Finished: results/training-size-comparison/ncm=STCPM-train_size=14-max_test_size=10-n_classes=2-n_dimensions=5-timeout=36000-is_mnb=True/0.json\n",
            "Finished: results/training-size-comparison/ncm=STCPM-train_size=21-max_test_size=10-n_classes=2-n_dimensions=5-timeout=36000-is_mnb=True/0.json\n",
            "Finished: results/training-size-comparison/ncm=STCPM-train_size=21-max_test_size=10-n_classes=2-n_dimensions=5-timeout=36000-is_mnb=True/1.json\n",
            "Finished: results/training-size-comparison/ncm=STCPM-train_size=31-max_test_size=10-n_classes=2-n_dimensions=5-timeout=36000-is_mnb=True/0.json\n",
            "Finished: results/training-size-comparison/ncm=STCPM-train_size=31-max_test_size=10-n_classes=2-n_dimensions=5-timeout=36000-is_mnb=True/1.json\n",
            "Finished: results/training-size-comparison/ncm=STCPM-train_size=46-max_test_size=10-n_classes=2-n_dimensions=5-timeout=36000-is_mnb=True/0.json\n",
            "Finished: results/training-size-comparison/ncm=STCPM-train_size=46-max_test_size=10-n_classes=2-n_dimensions=5-timeout=36000-is_mnb=True/1.json\n",
            "Finished: results/training-size-comparison/ncm=STCPM-train_size=68-max_test_size=10-n_classes=2-n_dimensions=5-timeout=36000-is_mnb=True/1.json\n",
            "Finished: results/training-size-comparison/ncm=STCPM-train_size=68-max_test_size=10-n_classes=2-n_dimensions=5-timeout=36000-is_mnb=True/0.json\n",
            "Finished: results/training-size-comparison/ncm=STCPM-train_size=100-max_test_size=10-n_classes=2-n_dimensions=5-timeout=36000-is_mnb=True/0.json\n",
            "Finished: results/training-size-comparison/ncm=STCPM-train_size=100-max_test_size=10-n_classes=2-n_dimensions=5-timeout=36000-is_mnb=True/1.json\n",
            "Finished: results/training-size-comparison/ncm=STCPM-train_size=146-max_test_size=10-n_classes=2-n_dimensions=5-timeout=36000-is_mnb=True/1.jsonFinished: results/training-size-comparison/ncm=STCPM-train_size=146-max_test_size=10-n_classes=2-n_dimensions=5-timeout=36000-is_mnb=True/0.json\n",
            "\n",
            "Finished: results/training-size-comparison/ncm=STCPM-train_size=215-max_test_size=10-n_classes=2-n_dimensions=5-timeout=36000-is_mnb=True/1.json\n",
            "Finished: results/training-size-comparison/ncm=STCPM-train_size=215-max_test_size=10-n_classes=2-n_dimensions=5-timeout=36000-is_mnb=True/0.json\n",
            "Finished: results/training-size-comparison/ncm=STCPM-train_size=316-max_test_size=10-n_classes=2-n_dimensions=5-timeout=36000-is_mnb=True/1.json\n",
            "Finished: results/training-size-comparison/ncm=STCPM-train_size=316-max_test_size=10-n_classes=2-n_dimensions=5-timeout=36000-is_mnb=True/0.json\n",
            "Finished: results/training-size-comparison/ncm=STCPM-train_size=464-max_test_size=10-n_classes=2-n_dimensions=5-timeout=36000-is_mnb=True/1.json\n",
            "Finished: results/training-size-comparison/ncm=STCPM-train_size=464-max_test_size=10-n_classes=2-n_dimensions=5-timeout=36000-is_mnb=True/0.json\n",
            "Finished: results/training-size-comparison/ncm=STCPM-train_size=681-max_test_size=10-n_classes=2-n_dimensions=5-timeout=36000-is_mnb=True/0.json\n",
            "Finished: results/training-size-comparison/ncm=STCPM-train_size=681-max_test_size=10-n_classes=2-n_dimensions=5-timeout=36000-is_mnb=True/1.json\n",
            "Finished: results/training-size-comparison/ncm=STCPM-train_size=1000-max_test_size=10-n_classes=2-n_dimensions=5-timeout=36000-is_mnb=True/0.json\n",
            "Finished: results/training-size-comparison/ncm=STCPM-train_size=1000-max_test_size=10-n_classes=2-n_dimensions=5-timeout=36000-is_mnb=True/1.json\n"
          ]
        }
      ],
      "source": [
        "eli = Eli(RESULTS_DIR)\n",
        "eli.run_experiment(exp_name=EXPERIMENT_NAME,\n",
        "                   func=evaluate_ncm,\n",
        "                   repetitions=REPETITIONS,\n",
        "                   n_jobs=40,\n",
        "                   automatic_seed=True,\n",
        "                   # Parameters\n",
        "                   ncm=[\"STCPM\",\"OTCPM\"],\n",
        "                   train_size=TRAIN_SIZE,\n",
        "                   max_test_size=MAX_TEST_SIZE,\n",
        "                   n_classes=N_CLASSES,\n",
        "                   n_dimensions=N_DIMENSIONS,\n",
        "                   timeout=TIMEOUT,\n",
        "                   is_mnb = True\n",
        "                  )"
      ]
    },
    {
      "cell_type": "markdown",
      "metadata": {
        "id": "6QEnUsCGSbq-"
      },
      "source": [
        "### STCPG vs OTCPG"
      ]
    },
    {
      "cell_type": "code",
      "execution_count": null,
      "metadata": {
        "colab": {
          "base_uri": "https://localhost:8080/"
        },
        "id": "L7LuUvSvRUlm",
        "outputId": "b0f88ed1-5945-4da6-e02a-6c4a6998a229"
      },
      "outputs": [
        {
          "output_type": "stream",
          "name": "stdout",
          "text": [
            "Running: results/training-size-comparison/ncm=STCPG-train_size=10-max_test_size=10-n_classes=2-n_dimensions=5-timeout=36000-is_mnb=False/0.json\n",
            "Running: results/training-size-comparison/ncm=STCPG-train_size=21-max_test_size=10-n_classes=2-n_dimensions=5-timeout=36000-is_mnb=False/0.jsonRunning: results/training-size-comparison/ncm=STCPG-train_size=68-max_test_size=10-n_classes=2-n_dimensions=5-timeout=36000-is_mnb=False/0.jsonRunning: results/training-size-comparison/ncm=STCPG-train_size=464-max_test_size=10-n_classes=2-n_dimensions=5-timeout=36000-is_mnb=False/0.jsonRunning: results/training-size-comparison/ncm=STCPG-train_size=14-max_test_size=10-n_classes=2-n_dimensions=5-timeout=36000-is_mnb=False/1.jsonRunning: results/training-size-comparison/ncm=OTCPG-train_size=68-max_test_size=10-n_classes=2-n_dimensions=5-timeout=36000-is_mnb=False/1.jsonRunning: results/training-size-comparison/ncm=STCPG-train_size=31-max_test_size=10-n_classes=2-n_dimensions=5-timeout=36000-is_mnb=False/0.jsonRunning: results/training-size-comparison/ncm=OTCPG-train_size=46-max_test_size=10-n_classes=2-n_dimensions=5-timeout=36000-is_mnb=False/1.jsonRunning: results/training-size-comparison/ncm=STCPG-train_size=10-max_test_size=10-n_classes=2-n_dimensions=5-timeout=36000-is_mnb=False/1.jsonRunning: results/training-size-comparison/ncm=STCPG-train_size=21-max_test_size=10-n_classes=2-n_dimensions=5-timeout=36000-is_mnb=False/1.json\n",
            "Running: results/training-size-comparison/ncm=STCPG-train_size=215-max_test_size=10-n_classes=2-n_dimensions=5-timeout=36000-is_mnb=False/0.jsonRunning: results/training-size-comparison/ncm=STCPG-train_size=31-max_test_size=10-n_classes=2-n_dimensions=5-timeout=36000-is_mnb=False/1.json\n",
            "\n",
            "\n",
            "Running: results/training-size-comparison/ncm=OTCPG-train_size=21-max_test_size=10-n_classes=2-n_dimensions=5-timeout=36000-is_mnb=False/0.jsonRunning: results/training-size-comparison/ncm=STCPG-train_size=464-max_test_size=10-n_classes=2-n_dimensions=5-timeout=36000-is_mnb=False/1.jsonRunning: results/training-size-comparison/ncm=OTCPG-train_size=31-max_test_size=10-n_classes=2-n_dimensions=5-timeout=36000-is_mnb=False/1.jsonRunning: results/training-size-comparison/ncm=STCPG-train_size=14-max_test_size=10-n_classes=2-n_dimensions=5-timeout=36000-is_mnb=False/0.jsonRunning: results/training-size-comparison/ncm=STCPG-train_size=681-max_test_size=10-n_classes=2-n_dimensions=5-timeout=36000-is_mnb=False/1.jsonRunning: results/training-size-comparison/ncm=STCPG-train_size=1000-max_test_size=10-n_classes=2-n_dimensions=5-timeout=36000-is_mnb=False/0.json\n",
            "Running: results/training-size-comparison/ncm=OTCPG-train_size=100-max_test_size=10-n_classes=2-n_dimensions=5-timeout=36000-is_mnb=False/1.jsonRunning: results/training-size-comparison/ncm=STCPG-train_size=146-max_test_size=10-n_classes=2-n_dimensions=5-timeout=36000-is_mnb=False/0.jsonRunning: results/training-size-comparison/ncm=OTCPG-train_size=46-max_test_size=10-n_classes=2-n_dimensions=5-timeout=36000-is_mnb=False/0.json\n",
            "Running: results/training-size-comparison/ncm=OTCPG-train_size=14-max_test_size=10-n_classes=2-n_dimensions=5-timeout=36000-is_mnb=False/1.jsonRunning: results/training-size-comparison/ncm=OTCPG-train_size=31-max_test_size=10-n_classes=2-n_dimensions=5-timeout=36000-is_mnb=False/0.jsonRunning: results/training-size-comparison/ncm=STCPG-train_size=68-max_test_size=10-n_classes=2-n_dimensions=5-timeout=36000-is_mnb=False/1.jsonRunning: results/training-size-comparison/ncm=OTCPG-train_size=68-max_test_size=10-n_classes=2-n_dimensions=5-timeout=36000-is_mnb=False/0.json\n",
            "Running: results/training-size-comparison/ncm=STCPG-train_size=316-max_test_size=10-n_classes=2-n_dimensions=5-timeout=36000-is_mnb=False/1.jsonRunning: results/training-size-comparison/ncm=STCPG-train_size=100-max_test_size=10-n_classes=2-n_dimensions=5-timeout=36000-is_mnb=False/1.jsonRunning: results/training-size-comparison/ncm=OTCPG-train_size=21-max_test_size=10-n_classes=2-n_dimensions=5-timeout=36000-is_mnb=False/1.json\n",
            "Running: results/training-size-comparison/ncm=STCPG-train_size=316-max_test_size=10-n_classes=2-n_dimensions=5-timeout=36000-is_mnb=False/0.jsonRunning: results/training-size-comparison/ncm=STCPG-train_size=681-max_test_size=10-n_classes=2-n_dimensions=5-timeout=36000-is_mnb=False/0.jsonRunning: results/training-size-comparison/ncm=STCPG-train_size=215-max_test_size=10-n_classes=2-n_dimensions=5-timeout=36000-is_mnb=False/1.json\n",
            "Running: results/training-size-comparison/ncm=STCPG-train_size=1000-max_test_size=10-n_classes=2-n_dimensions=5-timeout=36000-is_mnb=False/1.jsonRunning: results/training-size-comparison/ncm=STCPG-train_size=46-max_test_size=10-n_classes=2-n_dimensions=5-timeout=36000-is_mnb=False/0.jsonRunning: results/training-size-comparison/ncm=OTCPG-train_size=100-max_test_size=10-n_classes=2-n_dimensions=5-timeout=36000-is_mnb=False/0.json\n",
            "\n",
            "Running: results/training-size-comparison/ncm=OTCPG-train_size=10-max_test_size=10-n_classes=2-n_dimensions=5-timeout=36000-is_mnb=False/0.jsonRunning: results/training-size-comparison/ncm=OTCPG-train_size=10-max_test_size=10-n_classes=2-n_dimensions=5-timeout=36000-is_mnb=False/1.json\n",
            "\n",
            "\n",
            "Running: results/training-size-comparison/ncm=STCPG-train_size=100-max_test_size=10-n_classes=2-n_dimensions=5-timeout=36000-is_mnb=False/0.json\n",
            "\n",
            "\n",
            "\n",
            "\n",
            "\n",
            "\n",
            "\n",
            "\n",
            "\n",
            "\n",
            "\n",
            "\n",
            "\n",
            "Running: results/training-size-comparison/ncm=STCPG-train_size=146-max_test_size=10-n_classes=2-n_dimensions=5-timeout=36000-is_mnb=False/1.json\n",
            "\n",
            "Running: results/training-size-comparison/ncm=STCPG-train_size=46-max_test_size=10-n_classes=2-n_dimensions=5-timeout=36000-is_mnb=False/1.jsonRunning: results/training-size-comparison/ncm=OTCPG-train_size=14-max_test_size=10-n_classes=2-n_dimensions=5-timeout=36000-is_mnb=False/0.json\n",
            "\n",
            "\n",
            "\n",
            "\n",
            "\n",
            "\n",
            "\n",
            "\n",
            "Failed: results/training-size-comparison/ncm=OTCPG-train_size=10-max_test_size=10-n_classes=2-n_dimensions=5-timeout=36000-is_mnb=False/0.json\n",
            "math domain error\n",
            "Running: results/training-size-comparison/ncm=OTCPG-train_size=146-max_test_size=10-n_classes=2-n_dimensions=5-timeout=36000-is_mnb=False/0.json\n",
            "Finished: results/training-size-comparison/ncm=OTCPG-train_size=10-max_test_size=10-n_classes=2-n_dimensions=5-timeout=36000-is_mnb=False/1.json\n",
            "Finished: results/training-size-comparison/ncm=OTCPG-train_size=14-max_test_size=10-n_classes=2-n_dimensions=5-timeout=36000-is_mnb=False/0.jsonFinished: results/training-size-comparison/ncm=OTCPG-train_size=14-max_test_size=10-n_classes=2-n_dimensions=5-timeout=36000-is_mnb=False/1.json\n",
            "\n",
            "Running: results/training-size-comparison/ncm=OTCPG-train_size=146-max_test_size=10-n_classes=2-n_dimensions=5-timeout=36000-is_mnb=False/1.json\n",
            "Finished: results/training-size-comparison/ncm=OTCPG-train_size=21-max_test_size=10-n_classes=2-n_dimensions=5-timeout=36000-is_mnb=False/1.jsonFinished: results/training-size-comparison/ncm=OTCPG-train_size=21-max_test_size=10-n_classes=2-n_dimensions=5-timeout=36000-is_mnb=False/0.jsonRunning: results/training-size-comparison/ncm=OTCPG-train_size=215-max_test_size=10-n_classes=2-n_dimensions=5-timeout=36000-is_mnb=False/1.jsonRunning: results/training-size-comparison/ncm=OTCPG-train_size=215-max_test_size=10-n_classes=2-n_dimensions=5-timeout=36000-is_mnb=False/0.json\n",
            "\n",
            "\n",
            "\n",
            "Running: results/training-size-comparison/ncm=OTCPG-train_size=316-max_test_size=10-n_classes=2-n_dimensions=5-timeout=36000-is_mnb=False/0.jsonRunning: results/training-size-comparison/ncm=OTCPG-train_size=316-max_test_size=10-n_classes=2-n_dimensions=5-timeout=36000-is_mnb=False/1.json\n",
            "\n",
            "Finished: results/training-size-comparison/ncm=OTCPG-train_size=31-max_test_size=10-n_classes=2-n_dimensions=5-timeout=36000-is_mnb=False/0.json\n",
            "Finished: results/training-size-comparison/ncm=OTCPG-train_size=31-max_test_size=10-n_classes=2-n_dimensions=5-timeout=36000-is_mnb=False/1.json\n",
            "Running: results/training-size-comparison/ncm=OTCPG-train_size=464-max_test_size=10-n_classes=2-n_dimensions=5-timeout=36000-is_mnb=False/1.jsonRunning: results/training-size-comparison/ncm=OTCPG-train_size=464-max_test_size=10-n_classes=2-n_dimensions=5-timeout=36000-is_mnb=False/0.json\n",
            "\n",
            "Finished: results/training-size-comparison/ncm=OTCPG-train_size=46-max_test_size=10-n_classes=2-n_dimensions=5-timeout=36000-is_mnb=False/0.json\n",
            "Finished: results/training-size-comparison/ncm=OTCPG-train_size=46-max_test_size=10-n_classes=2-n_dimensions=5-timeout=36000-is_mnb=False/1.json\n",
            "Running: results/training-size-comparison/ncm=OTCPG-train_size=681-max_test_size=10-n_classes=2-n_dimensions=5-timeout=36000-is_mnb=False/0.json\n",
            "Running: results/training-size-comparison/ncm=OTCPG-train_size=681-max_test_size=10-n_classes=2-n_dimensions=5-timeout=36000-is_mnb=False/1.json\n",
            "Finished: results/training-size-comparison/ncm=OTCPG-train_size=68-max_test_size=10-n_classes=2-n_dimensions=5-timeout=36000-is_mnb=False/0.json\n",
            "Finished: results/training-size-comparison/ncm=OTCPG-train_size=68-max_test_size=10-n_classes=2-n_dimensions=5-timeout=36000-is_mnb=False/1.json\n",
            "Running: results/training-size-comparison/ncm=OTCPG-train_size=1000-max_test_size=10-n_classes=2-n_dimensions=5-timeout=36000-is_mnb=False/0.json\n",
            "Running: results/training-size-comparison/ncm=OTCPG-train_size=1000-max_test_size=10-n_classes=2-n_dimensions=5-timeout=36000-is_mnb=False/1.json\n",
            "Failed: results/training-size-comparison/ncm=STCPG-train_size=10-max_test_size=10-n_classes=2-n_dimensions=5-timeout=36000-is_mnb=False/0.json\n",
            "float division by zero\n",
            "Finished: results/training-size-comparison/ncm=OTCPG-train_size=100-max_test_size=10-n_classes=2-n_dimensions=5-timeout=36000-is_mnb=False/1.json\n",
            "Finished: results/training-size-comparison/ncm=OTCPG-train_size=100-max_test_size=10-n_classes=2-n_dimensions=5-timeout=36000-is_mnb=False/0.json\n",
            "Finished: results/training-size-comparison/ncm=OTCPG-train_size=146-max_test_size=10-n_classes=2-n_dimensions=5-timeout=36000-is_mnb=False/0.json\n",
            "Finished: results/training-size-comparison/ncm=OTCPG-train_size=146-max_test_size=10-n_classes=2-n_dimensions=5-timeout=36000-is_mnb=False/1.json\n",
            "Finished: results/training-size-comparison/ncm=OTCPG-train_size=215-max_test_size=10-n_classes=2-n_dimensions=5-timeout=36000-is_mnb=False/0.json\n",
            "Finished: results/training-size-comparison/ncm=OTCPG-train_size=215-max_test_size=10-n_classes=2-n_dimensions=5-timeout=36000-is_mnb=False/1.json\n",
            "Finished: results/training-size-comparison/ncm=OTCPG-train_size=316-max_test_size=10-n_classes=2-n_dimensions=5-timeout=36000-is_mnb=False/0.json\n",
            "Finished: results/training-size-comparison/ncm=OTCPG-train_size=316-max_test_size=10-n_classes=2-n_dimensions=5-timeout=36000-is_mnb=False/1.json\n",
            "Finished: results/training-size-comparison/ncm=OTCPG-train_size=464-max_test_size=10-n_classes=2-n_dimensions=5-timeout=36000-is_mnb=False/1.json\n",
            "Finished: results/training-size-comparison/ncm=OTCPG-train_size=464-max_test_size=10-n_classes=2-n_dimensions=5-timeout=36000-is_mnb=False/0.json\n",
            "Finished: results/training-size-comparison/ncm=OTCPG-train_size=681-max_test_size=10-n_classes=2-n_dimensions=5-timeout=36000-is_mnb=False/0.json\n",
            "Finished: results/training-size-comparison/ncm=OTCPG-train_size=681-max_test_size=10-n_classes=2-n_dimensions=5-timeout=36000-is_mnb=False/1.json\n",
            "Finished: results/training-size-comparison/ncm=OTCPG-train_size=1000-max_test_size=10-n_classes=2-n_dimensions=5-timeout=36000-is_mnb=False/0.jsonFinished: results/training-size-comparison/ncm=OTCPG-train_size=1000-max_test_size=10-n_classes=2-n_dimensions=5-timeout=36000-is_mnb=False/1.json\n",
            "\n",
            "Finished: results/training-size-comparison/ncm=STCPG-train_size=10-max_test_size=10-n_classes=2-n_dimensions=5-timeout=36000-is_mnb=False/1.json\n",
            "Finished: results/training-size-comparison/ncm=STCPG-train_size=14-max_test_size=10-n_classes=2-n_dimensions=5-timeout=36000-is_mnb=False/0.json\n",
            "Finished: results/training-size-comparison/ncm=STCPG-train_size=14-max_test_size=10-n_classes=2-n_dimensions=5-timeout=36000-is_mnb=False/1.json\n",
            "Finished: results/training-size-comparison/ncm=STCPG-train_size=21-max_test_size=10-n_classes=2-n_dimensions=5-timeout=36000-is_mnb=False/0.json\n",
            "Finished: results/training-size-comparison/ncm=STCPG-train_size=21-max_test_size=10-n_classes=2-n_dimensions=5-timeout=36000-is_mnb=False/1.json\n",
            "Finished: results/training-size-comparison/ncm=STCPG-train_size=31-max_test_size=10-n_classes=2-n_dimensions=5-timeout=36000-is_mnb=False/0.json\n",
            "Finished: results/training-size-comparison/ncm=STCPG-train_size=31-max_test_size=10-n_classes=2-n_dimensions=5-timeout=36000-is_mnb=False/1.json\n",
            "Finished: results/training-size-comparison/ncm=STCPG-train_size=46-max_test_size=10-n_classes=2-n_dimensions=5-timeout=36000-is_mnb=False/0.json\n",
            "Finished: results/training-size-comparison/ncm=STCPG-train_size=46-max_test_size=10-n_classes=2-n_dimensions=5-timeout=36000-is_mnb=False/1.json\n",
            "Finished: results/training-size-comparison/ncm=STCPG-train_size=68-max_test_size=10-n_classes=2-n_dimensions=5-timeout=36000-is_mnb=False/1.json\n",
            "Finished: results/training-size-comparison/ncm=STCPG-train_size=68-max_test_size=10-n_classes=2-n_dimensions=5-timeout=36000-is_mnb=False/0.json\n",
            "Finished: results/training-size-comparison/ncm=STCPG-train_size=100-max_test_size=10-n_classes=2-n_dimensions=5-timeout=36000-is_mnb=False/0.json\n",
            "Finished: results/training-size-comparison/ncm=STCPG-train_size=100-max_test_size=10-n_classes=2-n_dimensions=5-timeout=36000-is_mnb=False/1.json\n",
            "Finished: results/training-size-comparison/ncm=STCPG-train_size=146-max_test_size=10-n_classes=2-n_dimensions=5-timeout=36000-is_mnb=False/1.json\n",
            "Finished: results/training-size-comparison/ncm=STCPG-train_size=146-max_test_size=10-n_classes=2-n_dimensions=5-timeout=36000-is_mnb=False/0.json\n",
            "Finished: results/training-size-comparison/ncm=STCPG-train_size=215-max_test_size=10-n_classes=2-n_dimensions=5-timeout=36000-is_mnb=False/1.json\n",
            "Finished: results/training-size-comparison/ncm=STCPG-train_size=215-max_test_size=10-n_classes=2-n_dimensions=5-timeout=36000-is_mnb=False/0.json\n",
            "Finished: results/training-size-comparison/ncm=STCPG-train_size=316-max_test_size=10-n_classes=2-n_dimensions=5-timeout=36000-is_mnb=False/0.json\n",
            "Finished: results/training-size-comparison/ncm=STCPG-train_size=316-max_test_size=10-n_classes=2-n_dimensions=5-timeout=36000-is_mnb=False/1.json\n",
            "Finished: results/training-size-comparison/ncm=STCPG-train_size=464-max_test_size=10-n_classes=2-n_dimensions=5-timeout=36000-is_mnb=False/1.json\n",
            "Finished: results/training-size-comparison/ncm=STCPG-train_size=464-max_test_size=10-n_classes=2-n_dimensions=5-timeout=36000-is_mnb=False/0.json\n",
            "Finished: results/training-size-comparison/ncm=STCPG-train_size=681-max_test_size=10-n_classes=2-n_dimensions=5-timeout=36000-is_mnb=False/0.json\n",
            "Finished: results/training-size-comparison/ncm=STCPG-train_size=681-max_test_size=10-n_classes=2-n_dimensions=5-timeout=36000-is_mnb=False/1.json\n",
            "Finished: results/training-size-comparison/ncm=STCPG-train_size=1000-max_test_size=10-n_classes=2-n_dimensions=5-timeout=36000-is_mnb=False/0.json\n",
            "Finished: results/training-size-comparison/ncm=STCPG-train_size=1000-max_test_size=10-n_classes=2-n_dimensions=5-timeout=36000-is_mnb=False/1.json\n"
          ]
        }
      ],
      "source": [
        "eli = Eli(RESULTS_DIR)\n",
        "eli.run_experiment(exp_name=EXPERIMENT_NAME,\n",
        "                   func=evaluate_ncm,\n",
        "                   repetitions=REPETITIONS,\n",
        "                   n_jobs=40,\n",
        "                   automatic_seed=True,\n",
        "                   # Parameters\n",
        "                   ncm=[\"STCPG\",\"OTCPG\"],\n",
        "                   train_size=TRAIN_SIZE,\n",
        "                   max_test_size=MAX_TEST_SIZE,\n",
        "                   n_classes=N_CLASSES,\n",
        "                   n_dimensions=N_DIMENSIONS,\n",
        "                   timeout=TIMEOUT,\n",
        "                   is_mnb = False\n",
        "                  )"
      ]
    },
    {
      "cell_type": "markdown",
      "metadata": {
        "id": "YL4kcVu-yA5O"
      },
      "source": [
        "## Results"
      ]
    },
    {
      "cell_type": "code",
      "execution_count": null,
      "metadata": {
        "colab": {
          "base_uri": "https://localhost:8080/",
          "height": 557
        },
        "id": "SHu2S3SDow60",
        "outputId": "f95c5f39-8385-4fb9-ffb8-f5ed65804d42"
      },
      "outputs": [
        {
          "output_type": "stream",
          "name": "stdout",
          "text": [
            "102 observations\n"
          ]
        },
        {
          "output_type": "execute_result",
          "data": {
            "text/plain": [
              "                                                name  training_time  \\\n",
              "0  ncm=OTCPM-train_size=14-max_test_size=10-n_cla...       0.702736   \n",
              "1  ncm=OTCPM-train_size=14-max_test_size=10-n_cla...       0.828036   \n",
              "2  ncm=STCPM-train_size=14-max_test_size=10-n_cla...       0.000037   \n",
              "3  ncm=STCPM-train_size=14-max_test_size=10-n_cla...       0.000036   \n",
              "4  ncm=STCPG-train_size=146-max_test_size=10-n_cl...       0.000022   \n",
              "\n",
              "                                     prediction_time  reached_timeout    ncm  \\\n",
              "0  [0.12505122100000676, 0.21686268400000586, 0.2...            False  OTCPM   \n",
              "1  [0.09661258700000985, 0.1897212599999989, 0.29...            False  OTCPM   \n",
              "2  [18.081693537999996, 30.496342200999976, 42.64...            False  STCPM   \n",
              "3  [18.420699653999975, 30.645352177999996, 42.76...            False  STCPM   \n",
              "4  [158.43647038399968, 273.7574233829996, 372.47...            False  STCPG   \n",
              "\n",
              "   train_size  max_test_size  n_classes  n_dimensions  timeout  is_mnb  \\\n",
              "0          14             10          2             5    36000    True   \n",
              "1          14             10          2             5    36000    True   \n",
              "2          14             10          2             5    36000    True   \n",
              "3          14             10          2             5    36000    True   \n",
              "4         146             10          2             5    36000   False   \n",
              "\n",
              "   repetition   git-commit                           started  \\\n",
              "0           0  no-git-repo  2023-05-28T13:36:50.475185+00:00   \n",
              "1           1  no-git-repo  2023-05-28T13:36:50.108707+00:00   \n",
              "2           0  no-git-repo  2023-05-28T13:36:50.242042+00:00   \n",
              "3           1  no-git-repo  2023-05-28T13:36:50.163804+00:00   \n",
              "4           0  no-git-repo  2023-05-28T14:10:22.193855+00:00   \n",
              "\n",
              "                           finished   avg_time  \n",
              "0  2023-05-28T13:36:52.642175+00:00   0.103593  \n",
              "1  2023-05-28T13:36:52.084652+00:00   0.086220  \n",
              "2  2023-05-28T13:38:45.169546+00:00  11.470260  \n",
              "3  2023-05-28T13:38:45.118993+00:00  11.468076  \n",
              "4  2023-05-28T14:24:58.702858+00:00  87.614612  "
            ],
            "text/html": [
              "\n",
              "  <div id=\"df-3518f4cf-fa2f-48cc-8b87-65b3e3d352d3\">\n",
              "    <div class=\"colab-df-container\">\n",
              "      <div>\n",
              "<style scoped>\n",
              "    .dataframe tbody tr th:only-of-type {\n",
              "        vertical-align: middle;\n",
              "    }\n",
              "\n",
              "    .dataframe tbody tr th {\n",
              "        vertical-align: top;\n",
              "    }\n",
              "\n",
              "    .dataframe thead th {\n",
              "        text-align: right;\n",
              "    }\n",
              "</style>\n",
              "<table border=\"1\" class=\"dataframe\">\n",
              "  <thead>\n",
              "    <tr style=\"text-align: right;\">\n",
              "      <th></th>\n",
              "      <th>name</th>\n",
              "      <th>training_time</th>\n",
              "      <th>prediction_time</th>\n",
              "      <th>reached_timeout</th>\n",
              "      <th>ncm</th>\n",
              "      <th>train_size</th>\n",
              "      <th>max_test_size</th>\n",
              "      <th>n_classes</th>\n",
              "      <th>n_dimensions</th>\n",
              "      <th>timeout</th>\n",
              "      <th>is_mnb</th>\n",
              "      <th>repetition</th>\n",
              "      <th>git-commit</th>\n",
              "      <th>started</th>\n",
              "      <th>finished</th>\n",
              "      <th>avg_time</th>\n",
              "    </tr>\n",
              "  </thead>\n",
              "  <tbody>\n",
              "    <tr>\n",
              "      <th>0</th>\n",
              "      <td>ncm=OTCPM-train_size=14-max_test_size=10-n_cla...</td>\n",
              "      <td>0.702736</td>\n",
              "      <td>[0.12505122100000676, 0.21686268400000586, 0.2...</td>\n",
              "      <td>False</td>\n",
              "      <td>OTCPM</td>\n",
              "      <td>14</td>\n",
              "      <td>10</td>\n",
              "      <td>2</td>\n",
              "      <td>5</td>\n",
              "      <td>36000</td>\n",
              "      <td>True</td>\n",
              "      <td>0</td>\n",
              "      <td>no-git-repo</td>\n",
              "      <td>2023-05-28T13:36:50.475185+00:00</td>\n",
              "      <td>2023-05-28T13:36:52.642175+00:00</td>\n",
              "      <td>0.103593</td>\n",
              "    </tr>\n",
              "    <tr>\n",
              "      <th>1</th>\n",
              "      <td>ncm=OTCPM-train_size=14-max_test_size=10-n_cla...</td>\n",
              "      <td>0.828036</td>\n",
              "      <td>[0.09661258700000985, 0.1897212599999989, 0.29...</td>\n",
              "      <td>False</td>\n",
              "      <td>OTCPM</td>\n",
              "      <td>14</td>\n",
              "      <td>10</td>\n",
              "      <td>2</td>\n",
              "      <td>5</td>\n",
              "      <td>36000</td>\n",
              "      <td>True</td>\n",
              "      <td>1</td>\n",
              "      <td>no-git-repo</td>\n",
              "      <td>2023-05-28T13:36:50.108707+00:00</td>\n",
              "      <td>2023-05-28T13:36:52.084652+00:00</td>\n",
              "      <td>0.086220</td>\n",
              "    </tr>\n",
              "    <tr>\n",
              "      <th>2</th>\n",
              "      <td>ncm=STCPM-train_size=14-max_test_size=10-n_cla...</td>\n",
              "      <td>0.000037</td>\n",
              "      <td>[18.081693537999996, 30.496342200999976, 42.64...</td>\n",
              "      <td>False</td>\n",
              "      <td>STCPM</td>\n",
              "      <td>14</td>\n",
              "      <td>10</td>\n",
              "      <td>2</td>\n",
              "      <td>5</td>\n",
              "      <td>36000</td>\n",
              "      <td>True</td>\n",
              "      <td>0</td>\n",
              "      <td>no-git-repo</td>\n",
              "      <td>2023-05-28T13:36:50.242042+00:00</td>\n",
              "      <td>2023-05-28T13:38:45.169546+00:00</td>\n",
              "      <td>11.470260</td>\n",
              "    </tr>\n",
              "    <tr>\n",
              "      <th>3</th>\n",
              "      <td>ncm=STCPM-train_size=14-max_test_size=10-n_cla...</td>\n",
              "      <td>0.000036</td>\n",
              "      <td>[18.420699653999975, 30.645352177999996, 42.76...</td>\n",
              "      <td>False</td>\n",
              "      <td>STCPM</td>\n",
              "      <td>14</td>\n",
              "      <td>10</td>\n",
              "      <td>2</td>\n",
              "      <td>5</td>\n",
              "      <td>36000</td>\n",
              "      <td>True</td>\n",
              "      <td>1</td>\n",
              "      <td>no-git-repo</td>\n",
              "      <td>2023-05-28T13:36:50.163804+00:00</td>\n",
              "      <td>2023-05-28T13:38:45.118993+00:00</td>\n",
              "      <td>11.468076</td>\n",
              "    </tr>\n",
              "    <tr>\n",
              "      <th>4</th>\n",
              "      <td>ncm=STCPG-train_size=146-max_test_size=10-n_cl...</td>\n",
              "      <td>0.000022</td>\n",
              "      <td>[158.43647038399968, 273.7574233829996, 372.47...</td>\n",
              "      <td>False</td>\n",
              "      <td>STCPG</td>\n",
              "      <td>146</td>\n",
              "      <td>10</td>\n",
              "      <td>2</td>\n",
              "      <td>5</td>\n",
              "      <td>36000</td>\n",
              "      <td>False</td>\n",
              "      <td>0</td>\n",
              "      <td>no-git-repo</td>\n",
              "      <td>2023-05-28T14:10:22.193855+00:00</td>\n",
              "      <td>2023-05-28T14:24:58.702858+00:00</td>\n",
              "      <td>87.614612</td>\n",
              "    </tr>\n",
              "  </tbody>\n",
              "</table>\n",
              "</div>\n",
              "      <button class=\"colab-df-convert\" onclick=\"convertToInteractive('df-3518f4cf-fa2f-48cc-8b87-65b3e3d352d3')\"\n",
              "              title=\"Convert this dataframe to an interactive table.\"\n",
              "              style=\"display:none;\">\n",
              "        \n",
              "  <svg xmlns=\"http://www.w3.org/2000/svg\" height=\"24px\"viewBox=\"0 0 24 24\"\n",
              "       width=\"24px\">\n",
              "    <path d=\"M0 0h24v24H0V0z\" fill=\"none\"/>\n",
              "    <path d=\"M18.56 5.44l.94 2.06.94-2.06 2.06-.94-2.06-.94-.94-2.06-.94 2.06-2.06.94zm-11 1L8.5 8.5l.94-2.06 2.06-.94-2.06-.94L8.5 2.5l-.94 2.06-2.06.94zm10 10l.94 2.06.94-2.06 2.06-.94-2.06-.94-.94-2.06-.94 2.06-2.06.94z\"/><path d=\"M17.41 7.96l-1.37-1.37c-.4-.4-.92-.59-1.43-.59-.52 0-1.04.2-1.43.59L10.3 9.45l-7.72 7.72c-.78.78-.78 2.05 0 2.83L4 21.41c.39.39.9.59 1.41.59.51 0 1.02-.2 1.41-.59l7.78-7.78 2.81-2.81c.8-.78.8-2.07 0-2.86zM5.41 20L4 18.59l7.72-7.72 1.47 1.35L5.41 20z\"/>\n",
              "  </svg>\n",
              "      </button>\n",
              "      \n",
              "  <style>\n",
              "    .colab-df-container {\n",
              "      display:flex;\n",
              "      flex-wrap:wrap;\n",
              "      gap: 12px;\n",
              "    }\n",
              "\n",
              "    .colab-df-convert {\n",
              "      background-color: #E8F0FE;\n",
              "      border: none;\n",
              "      border-radius: 50%;\n",
              "      cursor: pointer;\n",
              "      display: none;\n",
              "      fill: #1967D2;\n",
              "      height: 32px;\n",
              "      padding: 0 0 0 0;\n",
              "      width: 32px;\n",
              "    }\n",
              "\n",
              "    .colab-df-convert:hover {\n",
              "      background-color: #E2EBFA;\n",
              "      box-shadow: 0px 1px 2px rgba(60, 64, 67, 0.3), 0px 1px 3px 1px rgba(60, 64, 67, 0.15);\n",
              "      fill: #174EA6;\n",
              "    }\n",
              "\n",
              "    [theme=dark] .colab-df-convert {\n",
              "      background-color: #3B4455;\n",
              "      fill: #D2E3FC;\n",
              "    }\n",
              "\n",
              "    [theme=dark] .colab-df-convert:hover {\n",
              "      background-color: #434B5C;\n",
              "      box-shadow: 0px 1px 3px 1px rgba(0, 0, 0, 0.15);\n",
              "      filter: drop-shadow(0px 1px 2px rgba(0, 0, 0, 0.3));\n",
              "      fill: #FFFFFF;\n",
              "    }\n",
              "  </style>\n",
              "\n",
              "      <script>\n",
              "        const buttonEl =\n",
              "          document.querySelector('#df-3518f4cf-fa2f-48cc-8b87-65b3e3d352d3 button.colab-df-convert');\n",
              "        buttonEl.style.display =\n",
              "          google.colab.kernel.accessAllowed ? 'block' : 'none';\n",
              "\n",
              "        async function convertToInteractive(key) {\n",
              "          const element = document.querySelector('#df-3518f4cf-fa2f-48cc-8b87-65b3e3d352d3');\n",
              "          const dataTable =\n",
              "            await google.colab.kernel.invokeFunction('convertToInteractive',\n",
              "                                                     [key], {});\n",
              "          if (!dataTable) return;\n",
              "\n",
              "          const docLinkHtml = 'Like what you see? Visit the ' +\n",
              "            '<a target=\"_blank\" href=https://colab.research.google.com/notebooks/data_table.ipynb>data table notebook</a>'\n",
              "            + ' to learn more about interactive tables.';\n",
              "          element.innerHTML = '';\n",
              "          dataTable['output_type'] = 'display_data';\n",
              "          await google.colab.output.renderOutput(dataTable, element);\n",
              "          const docLink = document.createElement('div');\n",
              "          docLink.innerHTML = docLinkHtml;\n",
              "          element.appendChild(docLink);\n",
              "        }\n",
              "      </script>\n",
              "    </div>\n",
              "  </div>\n",
              "  "
            ]
          },
          "metadata": {},
          "execution_count": 27
        }
      ],
      "source": [
        "# Load result data\n",
        "eli = Eli(RESULTS_DIR)\n",
        "results = eli.fetch_results(\"training-size-comparison\")\n",
        "\n",
        "# Define a function to return the average prediction time for each \n",
        "# observation and store it in 'avg_time'.\n",
        "avgerage_time = lambda vec: np.concatenate(([vec[0]], pd.Series(vec).diff()[1:])).mean()\n",
        "results[\"avg_time\"] = results.prediction_time.apply(avgerage_time)\n",
        "\n",
        "print(f\"{len(results)} observations\")\n",
        "results.head()"
      ]
    },
    {
      "cell_type": "code",
      "execution_count": null,
      "metadata": {
        "colab": {
          "base_uri": "https://localhost:8080/"
        },
        "id": "9aiXeliObz7G",
        "outputId": "fadf3721-c20f-4051-a429-f6f1f87a58bb"
      },
      "outputs": [
        {
          "output_type": "stream",
          "name": "stdout",
          "text": [
            "STCPM (train: 1000 test: 10): \n",
            "\t Average Training Time: 0.051850805500009756 seconds \n",
            "\t Average Prediction Time: 200.97501906295 seconds \n",
            "\n",
            "OTCPM (train: 1000 test: 10): \n",
            "\t Average Training Time: 0.7796704714999976 seconds \n",
            "\t Average Prediction Time: 5.127062288 seconds\n",
            "\n",
            "STCPG (train: 1000 test: 10): \n",
            "\t Average Training Time: 2.348249995520746e-05 seconds \n",
            "\t Average Prediction Time: 232.45172891250002 seconds\n",
            "\n",
            "OTCPG (train: 1000 test: 10): \n",
            "\t Average Training Time: 0.7189096894999238 seconds \n",
            "\t Average Prediction Time: 7.508890258850011 seconds\n"
          ]
        }
      ],
      "source": [
        "MAX_TRAIN_SIZE = max(TRAIN_SIZE)\n",
        "print(\"STCPM (train: {} test: {}): \\n\\t Average Training Time: {} seconds \\n\\t Average Prediction Time: {} seconds \\n\".format(\n",
        "    MAX_TRAIN_SIZE,\n",
        "    MAX_TEST_SIZE,\n",
        "    results[(results.ncm==\"STCPM\") & (results.train_size==MAX_TRAIN_SIZE)].training_time.mean(),\n",
        "    results[(results.ncm==\"STCPM\") & (results.train_size==MAX_TRAIN_SIZE)].avg_time.mean()\n",
        "))\n",
        "\n",
        "print(\"OTCPM (train: {} test: {}): \\n\\t Average Training Time: {} seconds \\n\\t Average Prediction Time: {} seconds\\n\".format(\n",
        "    MAX_TRAIN_SIZE,\n",
        "    MAX_TEST_SIZE,\n",
        "    results[(results.ncm==\"OTCPM\") & (results.train_size==MAX_TRAIN_SIZE)].training_time.mean(),\n",
        "    results[(results.ncm==\"OTCPM\") & (results.train_size==MAX_TRAIN_SIZE)].avg_time.mean()\n",
        "))\n",
        "\n",
        "print(\"STCPG (train: {} test: {}): \\n\\t Average Training Time: {} seconds \\n\\t Average Prediction Time: {} seconds\\n\".format(\n",
        "    MAX_TRAIN_SIZE,\n",
        "    MAX_TEST_SIZE,\n",
        "    results[(results.ncm==\"STCPG\") & (results.train_size==MAX_TRAIN_SIZE)].training_time.mean(),\n",
        "    results[(results.ncm==\"STCPG\") & (results.train_size==MAX_TRAIN_SIZE)].avg_time.mean()\n",
        "))\n",
        "\n",
        "print(\"OTCPG (train: {} test: {}): \\n\\t Average Training Time: {} seconds \\n\\t Average Prediction Time: {} seconds\".format(\n",
        "    MAX_TRAIN_SIZE,\n",
        "    MAX_TEST_SIZE,\n",
        "    results[(results.ncm==\"OTCPG\") & (results.train_size==MAX_TRAIN_SIZE)].training_time.mean(),\n",
        "    results[(results.ncm==\"OTCPG\") & (results.train_size==MAX_TRAIN_SIZE)].avg_time.mean()\n",
        "))"
      ]
    },
    {
      "cell_type": "markdown",
      "metadata": {
        "id": "W7W5ozc-DgYC"
      },
      "source": [
        "## Plots\n",
        "\n",
        "For Standard TCP using MultinomialNB or GaussianNB, the training time just refers to the process of storing the training data as an element of the NCM object, while optimized ones need to train the classifiers for the first time. So the training time is not comparable, and we only compare the average prediction time."
      ]
    },
    {
      "cell_type": "code",
      "execution_count": null,
      "metadata": {
        "colab": {
          "base_uri": "https://localhost:8080/",
          "height": 522
        },
        "id": "sN10smq_ppl5",
        "outputId": "c0747d9d-33fd-42eb-b5a3-2ed34c39606d"
      },
      "outputs": [
        {
          "output_type": "display_data",
          "data": {
            "text/plain": [
              "<Figure size 2000x1000 with 2 Axes>"
            ],
            "image/png": "[encoded data removed]"
          },
          "metadata": {}
        }
      ],
      "source": [
        "fig, axes = plt.subplots(1, 2, sharex=True, figsize=(20, 10))\n",
        "colors = sns.color_palette()\n",
        "NCMS = [\"TCPM\",\"TCPG\"]\n",
        "\n",
        "for i, (ax, ncm) in enumerate(zip(axes.flat, NCMS)):\n",
        "    plot_data = results[((results.ncm == \"S\"+ncm) | (results.ncm == \"O\"+ncm))]\n",
        "\n",
        "    sns.lineplot(x=\"train_size\", y=\"avg_time\",\n",
        "                 data=plot_data[plot_data.ncm==\"S\"+ncm],\n",
        "                 ax=ax, legend=None, label=\"Standard\",\n",
        "                 color=colors[0])\n",
        "    sns.lineplot(x=\"train_size\", y=\"avg_time\",\n",
        "                 data=plot_data[plot_data.ncm==\"O\"+ncm],\n",
        "                 ax=ax, legend=None, label=\"Optimized\",\n",
        "                 color=colors[1])\n",
        "    \n",
        "    ax.lines[0].set_linestyle(\"--\")\n",
        "    ax.lines[1].set_linestyle(\"--\")\n",
        "\n",
        "    ax.set_yscale(\"log\")\n",
        "    ax.xaxis.set_major_formatter(ticker.EngFormatter())\n",
        "    ax.tick_params(axis='both',labelsize=20)\n",
        "    ax.grid()\n",
        "    # ax.set_xlim([0, 10**5])\n",
        "    ax.set_xlim([0, 10**3])\n",
        "    ax.set_ylim([10**-2, 10**3])\n",
        "    ax.set_title(\"TCPs using MultinomialNB (TCPMs)\" if NCMS[i][3]==\"M\" else \"TCPs using GaussianNB (TCPGs)\", fontsize=30)\n",
        "    ax.set_xlabel(\"Training Data Set Size\", fontsize=25)\n",
        "    ax.set_ylabel(\"Average Prediction Time (s)\",fontsize=25)\n",
        "    if i == 0:\n",
        "        ax.set_ylabel(\"Average Prediction Time (s)\")\n",
        "        ax.legend(title=\"\", loc=\"best\", frameon=True, fontsize=25)\n",
        "    else:\n",
        "        ax.set_ylabel(None)\n",
        "        plt.setp(ax.get_yticklabels(), visible=False)\n",
        "\n",
        "# fig.suptitle('Computational Performance Comparison between Standard and Optimized TCP using Multinomial or GaussianNB', fontsize=30)\n",
        "plt.tight_layout()"
      ]
    }
  ],
  "metadata": {
    "colab": {
      "collapsed_sections": [
        "1mdAung1TzLy",
        "ELFfOncxhM3G",
        "yXwRxQhMyodh"
      ],
      "provenance": [],
      "toc_visible": true
    },
    "kernelspec": {
      "display_name": "Python 3",
      "name": "python3"
    },
    "language_info": {
      "name": "python"
    }
  },
  "nbformat": 4,
  "nbformat_minor": 0
}